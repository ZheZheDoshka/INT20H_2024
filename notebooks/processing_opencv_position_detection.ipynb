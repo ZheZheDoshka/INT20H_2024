{
 "cells": [
  {
   "cell_type": "code",
   "outputs": [],
   "source": [
    "from pathlib import Path\n",
    "import json\n",
    "\n",
    "import numpy as np"
   ],
   "metadata": {
    "collapsed": false,
    "ExecuteTime": {
     "end_time": "2024-03-02T14:16:19.611838Z",
     "start_time": "2024-03-02T14:16:19.603717Z"
    }
   },
   "id": "ce8b7fd0bad997a2",
   "execution_count": 12
  },
  {
   "cell_type": "code",
   "outputs": [],
   "source": [
    "import cv2\n",
    "import matplotlib.pyplot as plt\n",
    "from tqdm import tqdm"
   ],
   "metadata": {
    "collapsed": true,
    "ExecuteTime": {
     "end_time": "2024-03-02T14:16:19.865353Z",
     "start_time": "2024-03-02T14:16:19.852470Z"
    }
   },
   "id": "initial_id",
   "execution_count": 13
  },
  {
   "cell_type": "code",
   "outputs": [
    {
     "data": {
      "text/plain": "<contextlib.ExitStack at 0x1608555ae30>"
     },
     "execution_count": 14,
     "metadata": {},
     "output_type": "execute_result"
    }
   ],
   "source": [
    "plt.ioff()"
   ],
   "metadata": {
    "collapsed": false,
    "ExecuteTime": {
     "end_time": "2024-03-02T14:16:20.329636Z",
     "start_time": "2024-03-02T14:16:20.322064Z"
    }
   },
   "id": "c4937c87957fadfe",
   "execution_count": 14
  },
  {
   "cell_type": "code",
   "outputs": [],
   "source": [
    "model_frontal = '../models/haarcascade_frontalface_default.xml'\n",
    "model_profile = '../models/haarcascade_profileface.xml'"
   ],
   "metadata": {
    "collapsed": false,
    "ExecuteTime": {
     "end_time": "2024-03-02T14:16:20.562947Z",
     "start_time": "2024-03-02T14:16:20.551902Z"
    }
   },
   "id": "c3e6c6965c239d60",
   "execution_count": 15
  },
  {
   "cell_type": "code",
   "outputs": [],
   "source": [
    "sample_parent = '../data/wiki_crop/00/'\n",
    "output_parent = '../data/wiki_crop_opencv_position_detection/'\n",
    "\n",
    "sample_frontal_face = [\n",
    "    '69300_1950-05-11_2009.jpg',\n",
    "    '196900_1884-05-20_1940.jpg',\n",
    "    '346200_1968-12-09_2005.jpg',\n",
    "    '487200_1890-12-11_1964.jpg',\n",
    "    '489500_1970-05-05_2006.jpg'\n",
    "]\n",
    "\n",
    "sample_profile_face = [\n",
    "    '23300_1962-06-19_2011.jpg',\n",
    "    '102100_1970-10-09_2008.jpg',\n",
    "    '654800_1950-01-03_1987.jpg',\n",
    "    '681100_1959-10-10_2010.jpg'\n",
    "    \n",
    "]\n",
    "\n",
    "sample_contest_face = [\n",
    "    '262800_1943-04-06_2011.jpg',\n",
    "    '102100_1970-10-09_2008.jpg',\n",
    "    '413100_1964-09-14_1994.jpg',\n",
    "    '575600_1979-07-13_2013.jpg',\n",
    "    '634600_1936-10-11_1978.jpg'\n",
    "    \n",
    "]"
   ],
   "metadata": {
    "collapsed": false,
    "ExecuteTime": {
     "end_time": "2024-03-02T14:16:20.770447Z",
     "start_time": "2024-03-02T14:16:20.751624Z"
    }
   },
   "id": "9734f1f7e2f0c421",
   "execution_count": 16
  },
  {
   "cell_type": "code",
   "outputs": [],
   "source": [
    "for i, _ in enumerate(sample_frontal_face):\n",
    "    if isinstance(sample_frontal_face[i], Path):\n",
    "        continue\n",
    "        \n",
    "    sample_frontal_face[i] = Path(sample_parent + sample_frontal_face[i])\n",
    "    \n",
    "for i, _ in enumerate(sample_profile_face):\n",
    "    if isinstance(sample_profile_face[i], Path):\n",
    "        continue\n",
    "    \n",
    "    sample_profile_face[i] = Path(sample_parent + sample_profile_face[i])\n",
    "    \n",
    "for i, _ in enumerate(sample_contest_face):\n",
    "    if isinstance(sample_contest_face[i], Path):\n",
    "        continue\n",
    "    \n",
    "    sample_contest_face[i] = Path(sample_parent + sample_contest_face[i])"
   ],
   "metadata": {
    "collapsed": false,
    "ExecuteTime": {
     "end_time": "2024-03-02T14:16:20.971165Z",
     "start_time": "2024-03-02T14:16:20.961343Z"
    }
   },
   "id": "51740a69d123d7d7",
   "execution_count": 17
  },
  {
   "cell_type": "code",
   "outputs": [],
   "source": [
    "image_cv2 = cv2.imread(str(sample_frontal_face[0]))"
   ],
   "metadata": {
    "collapsed": false,
    "ExecuteTime": {
     "end_time": "2024-03-02T14:16:21.170101Z",
     "start_time": "2024-03-02T14:16:21.162415Z"
    }
   },
   "id": "305f993846dbfd3",
   "execution_count": 18
  },
  {
   "cell_type": "code",
   "outputs": [],
   "source": [
    "face_classifier_frontal = cv2.CascadeClassifier(model_frontal)\n",
    "face_classifier_profile = cv2.CascadeClassifier(model_profile)"
   ],
   "metadata": {
    "collapsed": false,
    "ExecuteTime": {
     "end_time": "2024-03-02T14:16:21.465025Z",
     "start_time": "2024-03-02T14:16:21.346548Z"
    }
   },
   "id": "90b9a3cdae4a6bad",
   "execution_count": 19
  },
  {
   "cell_type": "code",
   "outputs": [],
   "source": [
    "def detect_for_picture(file_name, dataset_name):\n",
    "    image_cv2 = cv2.imread(str(file_name))\n",
    "        \n",
    "    faces_frontal = face_classifier_frontal.detectMultiScale(image_cv2)\n",
    "    faces_profile = face_classifier_profile.detectMultiScale(image_cv2)\n",
    "\n",
    "    # draw bounding box for each face detected\n",
    "    for (x, y, w, h) in faces_frontal:\n",
    "        color = (255,0,0) # red\n",
    "        stroke = 5\n",
    "        cv2.rectangle(image_cv2, (x, y), (x + w, y + h), color, stroke)\n",
    "    \n",
    "    for (x, y, w, h) in faces_profile:\n",
    "        color = (0, 255, 255) # in light blue\n",
    "        stroke = 5\n",
    "        cv2.rectangle(image_cv2, (x, y), (x + w, y + h), color, stroke)\n",
    "    \n",
    "    plt.figure(figsize=(20,10))\n",
    "    plt.imshow(image_cv2)\n",
    "    plt.axis('off')\n",
    "    \n",
    "    output_path = Path(output_parent) / Path(dataset_name) / Path(file_name).name\n",
    "    output_path.parent.mkdir(parents=True, exist_ok=True)\n",
    "    plt.savefig(output_path)"
   ],
   "metadata": {
    "collapsed": false,
    "ExecuteTime": {
     "end_time": "2024-03-02T14:16:21.545084Z",
     "start_time": "2024-03-02T14:16:21.534667Z"
    }
   },
   "id": "87ae8dccdd1311bf",
   "execution_count": 20
  },
  {
   "cell_type": "code",
   "outputs": [],
   "source": [
    "for image in sample_frontal_face:\n",
    "    detect_for_picture(image, 'frontal_face')\n",
    "    \n",
    "for image in sample_profile_face:\n",
    "    detect_for_picture(image, 'profile_face')\n",
    "\n",
    "for image in sample_contest_face:\n",
    "    detect_for_picture(image, 'contest_face')"
   ],
   "metadata": {
    "collapsed": false,
    "ExecuteTime": {
     "end_time": "2024-03-02T14:21:55.330803Z",
     "start_time": "2024-03-02T14:21:53.948639Z"
    }
   },
   "id": "deb6234ac4ab9055",
   "execution_count": 43
  },
  {
   "cell_type": "markdown",
   "source": [
    "# Process all images"
   ],
   "metadata": {
    "collapsed": false
   },
   "id": "b7f1aee0b94d17c6"
  },
  {
   "cell_type": "code",
   "outputs": [],
   "source": [
    "sample_parent = '../data/wiki_crop/'\n",
    "sample_output = '../data/wiki_crop_opencv_position_detection/'"
   ],
   "metadata": {
    "collapsed": false,
    "ExecuteTime": {
     "end_time": "2024-03-02T14:21:55.346649Z",
     "start_time": "2024-03-02T14:21:55.331835Z"
    }
   },
   "id": "9dca85488217c92b",
   "execution_count": 44
  },
  {
   "cell_type": "code",
   "outputs": [],
   "source": [
    "def detect_for_picture_json(file_name):\n",
    "    image_cv2 = cv2.imread(str(file_name))\n",
    "        \n",
    "    faces_frontal = face_classifier_frontal.detectMultiScale(image_cv2)\n",
    "    faces_profile = face_classifier_profile.detectMultiScale(image_cv2)\n",
    "\n",
    "    # draw bounding box for each face detected\n",
    "    faces_frontal = faces_frontal.tolist() if len(faces_frontal) > 0 else []\n",
    "    faces_profile = faces_profile.tolist() if len(faces_profile) > 0 else []\n",
    "    \n",
    "    faces_frontal_result = [[x, y, x + w, y + h] for (x, y, w, h) in faces_frontal]\n",
    "    faces_profile_result = [[x, y, x + w, y + h] for (x, y, w, h) in faces_profile]\n",
    "    \n",
    "    return faces_frontal_result, faces_profile_result"
   ],
   "metadata": {
    "collapsed": false,
    "ExecuteTime": {
     "end_time": "2024-03-02T14:32:15.382116Z",
     "start_time": "2024-03-02T14:32:15.369518Z"
    }
   },
   "id": "49e4d2ab671341b8",
   "execution_count": 54
  },
  {
   "cell_type": "code",
   "outputs": [
    {
     "name": "stderr",
     "output_type": "stream",
     "text": [
      "100%|██████████| 600/600 [00:14<00:00, 42.61it/s]\n",
      "100%|██████████| 651/651 [00:17<00:00, 37.43it/s]\n",
      "100%|██████████| 641/641 [00:17<00:00, 36.48it/s]\n",
      "100%|██████████| 610/610 [00:14<00:00, 41.25it/s]\n",
      "100%|██████████| 611/611 [00:17<00:00, 35.36it/s]\n",
      "100%|██████████| 656/656 [00:18<00:00, 35.84it/s]\n",
      "100%|██████████| 601/601 [00:16<00:00, 35.89it/s]\n",
      "100%|██████████| 610/610 [00:17<00:00, 35.32it/s]\n",
      "100%|██████████| 608/608 [00:17<00:00, 34.53it/s]\n",
      "100%|██████████| 634/634 [00:21<00:00, 29.14it/s]\n",
      "100%|██████████| 637/637 [00:22<00:00, 27.88it/s]\n",
      "100%|██████████| 633/633 [00:24<00:00, 25.49it/s]\n",
      "100%|██████████| 612/612 [00:25<00:00, 24.20it/s]\n",
      "100%|██████████| 601/601 [00:22<00:00, 26.46it/s]\n",
      "100%|██████████| 610/610 [00:25<00:00, 23.81it/s]\n",
      "100%|██████████| 611/611 [00:15<00:00, 38.40it/s]\n",
      "100%|██████████| 606/606 [00:16<00:00, 36.47it/s]\n",
      " 74%|███████▍  | 476/641 [00:13<00:04, 36.48it/s]"
     ]
    }
   ],
   "source": [
    "(Path(sample_output) / 'json').mkdir(parents=True, exist_ok=True)\n",
    "\n",
    "for dataset in Path(sample_parent).iterdir():\n",
    "    detection_result = {}\n",
    "    \n",
    "    images = list(dataset.glob('**/*.jpg'))\n",
    "    for image in tqdm(images):\n",
    "        faces_frontal, faces_profile = detect_for_picture_json(image)\n",
    "        detection_result[image.name] = {\n",
    "            'faces_frontal': faces_frontal,\n",
    "            'faces_profile': faces_profile\n",
    "        }\n",
    "\n",
    "    with open(Path(sample_output) / 'json' / f'{dataset.name}.json', 'w', encoding='utf-8') as f:\n",
    "        json.dump(detection_result, f, ensure_ascii=False, indent=4)"
   ],
   "metadata": {
    "collapsed": false,
    "is_executing": true,
    "ExecuteTime": {
     "start_time": "2024-03-02T14:32:15.542801Z"
    }
   },
   "id": "9d7b0be1c211cdab",
   "execution_count": null
  },
  {
   "cell_type": "code",
   "outputs": [],
   "source": [],
   "metadata": {
    "collapsed": false,
    "is_executing": true
   },
   "id": "864eac499407a76c",
   "execution_count": null
  }
 ],
 "metadata": {
  "kernelspec": {
   "display_name": "Python 3",
   "language": "python",
   "name": "python3"
  },
  "language_info": {
   "codemirror_mode": {
    "name": "ipython",
    "version": 2
   },
   "file_extension": ".py",
   "mimetype": "text/x-python",
   "name": "python",
   "nbconvert_exporter": "python",
   "pygments_lexer": "ipython2",
   "version": "2.7.6"
  }
 },
 "nbformat": 4,
 "nbformat_minor": 5
}
