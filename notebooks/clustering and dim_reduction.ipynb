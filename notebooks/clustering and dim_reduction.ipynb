{
 "cells": [
  {
   "cell_type": "code",
   "outputs": [],
   "source": [
    "import pickle\n",
    "from sklearn import cluster, datasets"
   ],
   "metadata": {
    "collapsed": false,
    "ExecuteTime": {
     "end_time": "2024-03-02T22:42:26.473781Z",
     "start_time": "2024-03-02T22:42:26.457275Z"
    }
   },
   "id": "52f8bba5eed631a",
   "execution_count": 74
  },
  {
   "cell_type": "code",
   "outputs": [],
   "source": [
    "import pandas as pd"
   ],
   "metadata": {
    "collapsed": false,
    "ExecuteTime": {
     "end_time": "2024-03-02T22:42:26.973650Z",
     "start_time": "2024-03-02T22:42:26.970472Z"
    }
   },
   "id": "ef3b9f878e546191",
   "execution_count": 75
  },
  {
   "cell_type": "code",
   "outputs": [],
   "source": [
    "with open('../data/embeddings.pickle', 'rb') as handle:\n",
    "    embedded_photos = pickle.load(handle)"
   ],
   "metadata": {
    "collapsed": true,
    "ExecuteTime": {
     "end_time": "2024-03-02T22:42:27.624672Z",
     "start_time": "2024-03-02T22:42:27.456210Z"
    }
   },
   "id": "initial_id",
   "execution_count": 76
  },
  {
   "cell_type": "code",
   "outputs": [],
   "source": [
    "photo_paths = embedded_photos[1]"
   ],
   "metadata": {
    "collapsed": false,
    "ExecuteTime": {
     "end_time": "2024-03-02T22:42:28.107793Z",
     "start_time": "2024-03-02T22:42:28.095165Z"
    }
   },
   "id": "d3ec6073bdb1858f",
   "execution_count": 77
  },
  {
   "cell_type": "code",
   "outputs": [],
   "source": [
    "\n",
    "from sklearn.decomposition import PCA\n",
    "from sklearn.manifold import TSNE"
   ],
   "metadata": {
    "collapsed": false,
    "ExecuteTime": {
     "end_time": "2024-03-02T22:42:35.838431Z",
     "start_time": "2024-03-02T22:42:35.834169Z"
    }
   },
   "id": "af2a6c4a17b2bc71",
   "execution_count": 78
  },
  {
   "cell_type": "code",
   "outputs": [],
   "source": [
    "import numpy as np\n",
    "array = np.array(embedded_photos[0])"
   ],
   "metadata": {
    "collapsed": false,
    "ExecuteTime": {
     "end_time": "2024-03-02T22:45:21.971607Z",
     "start_time": "2024-03-02T22:45:21.856976Z"
    }
   },
   "id": "9cfd8cf8e7e74d25",
   "execution_count": 83
  },
  {
   "cell_type": "code",
   "outputs": [],
   "source": [
    "n_components = 128\n",
    "columns = [\"Component \" + str(i+1) for i in range(n_components)]\n",
    "\n",
    "red = PCA(n_components = n_components)\n",
    "X_red = red.fit_transform()\n",
    "df_red = pd.DataFrame(data = X_red, columns = columns)"
   ],
   "metadata": {
    "collapsed": false,
    "ExecuteTime": {
     "end_time": "2024-03-02T22:42:56.701940Z",
     "start_time": "2024-03-02T22:42:55.441181Z"
    }
   },
   "id": "15b396c9c236ec7f",
   "execution_count": 80
  },
  {
   "cell_type": "code",
   "outputs": [],
   "source": [
    "red = TSNE(n_components = 3)\n",
    "X_red = red.fit_transform(array)\n",
    "df_red = pd.DataFrame(data = X_red, columns = ['0', '1', '2'])\n"
   ],
   "metadata": {
    "collapsed": false,
    "ExecuteTime": {
     "end_time": "2024-03-02T22:47:18.943050Z",
     "start_time": "2024-03-02T22:47:03.285264Z"
    }
   },
   "id": "518d5c9bfa09da51",
   "execution_count": 87
  },
  {
   "cell_type": "code",
   "outputs": [],
   "source": [
    "df_red = df_red[:6660]"
   ],
   "metadata": {
    "collapsed": false,
    "ExecuteTime": {
     "end_time": "2024-03-02T22:47:18.983342Z",
     "start_time": "2024-03-02T22:47:18.956358Z"
    }
   },
   "id": "5815822fe6bcbac7",
   "execution_count": 88
  },
  {
   "cell_type": "code",
   "outputs": [],
   "source": [
    "from sklearn.cluster import KMeans"
   ],
   "metadata": {
    "collapsed": false,
    "ExecuteTime": {
     "end_time": "2024-03-02T22:47:18.998644Z",
     "start_time": "2024-03-02T22:47:18.986631Z"
    }
   },
   "id": "94e8b601060f8343",
   "execution_count": 89
  },
  {
   "cell_type": "code",
   "outputs": [],
   "source": [
    "n = 2\n",
    "kmeans = KMeans(n_clusters=n, random_state=0, n_init=\"auto\")"
   ],
   "metadata": {
    "collapsed": false,
    "ExecuteTime": {
     "end_time": "2024-03-02T22:50:19.132999Z",
     "start_time": "2024-03-02T22:50:19.123328Z"
    }
   },
   "id": "f6f7d07ec600ca62",
   "execution_count": 97
  },
  {
   "cell_type": "code",
   "outputs": [],
   "source": [
    "clusters = kmeans.fit(df_red)"
   ],
   "metadata": {
    "collapsed": false,
    "ExecuteTime": {
     "end_time": "2024-03-02T22:50:20.185395Z",
     "start_time": "2024-03-02T22:50:20.161231Z"
    }
   },
   "id": "384a2ffc57f3118d",
   "execution_count": 98
  },
  {
   "cell_type": "code",
   "outputs": [
    {
     "data": {
      "text/plain": "array([0, 0, 1, ..., 0, 1, 0])"
     },
     "execution_count": 99,
     "metadata": {},
     "output_type": "execute_result"
    }
   ],
   "source": [
    "clusters.labels_"
   ],
   "metadata": {
    "collapsed": false,
    "ExecuteTime": {
     "end_time": "2024-03-02T22:50:20.729990Z",
     "start_time": "2024-03-02T22:50:20.717903Z"
    }
   },
   "id": "b8d445ab75aefa6d",
   "execution_count": 99
  },
  {
   "cell_type": "code",
   "outputs": [],
   "source": [
    "df_clustered = pd.DataFrame({'cluster' : clusters.labels_})"
   ],
   "metadata": {
    "collapsed": false,
    "ExecuteTime": {
     "end_time": "2024-03-02T22:50:21.822248Z",
     "start_time": "2024-03-02T22:50:21.809101Z"
    }
   },
   "id": "2693cf8e6920f567",
   "execution_count": 100
  },
  {
   "cell_type": "code",
   "outputs": [],
   "source": [],
   "metadata": {
    "collapsed": false,
    "ExecuteTime": {
     "end_time": "2024-03-02T22:50:22.225571Z",
     "start_time": "2024-03-02T22:50:22.223400Z"
    }
   },
   "id": "5e7be818fa996cc8",
   "execution_count": 100
  },
  {
   "cell_type": "code",
   "outputs": [
    {
     "data": {
      "text/plain": "'..\\\\data\\\\wiki_crop_filtered_mirrored_pose\\\\20281686_1964-12-10_2008.jpg'"
     },
     "execution_count": 101,
     "metadata": {},
     "output_type": "execute_result"
    }
   ],
   "source": [
    "photo_paths[0]"
   ],
   "metadata": {
    "collapsed": false,
    "ExecuteTime": {
     "end_time": "2024-03-02T22:50:22.491157Z",
     "start_time": "2024-03-02T22:50:22.484242Z"
    }
   },
   "id": "3dbaa51cc475f55c",
   "execution_count": 101
  },
  {
   "cell_type": "code",
   "outputs": [],
   "source": [
    "from collections import defaultdict\n",
    "\n",
    "file_name_per_cluster = defaultdict(list)\n",
    "\n",
    "for i, row in df_clustered.iterrows():\n",
    "    cluster = row['cluster']\n",
    "    file_name_per_cluster[cluster].append(photo_paths[i])\n",
    "    "
   ],
   "metadata": {
    "collapsed": false,
    "ExecuteTime": {
     "end_time": "2024-03-02T22:50:23.051760Z",
     "start_time": "2024-03-02T22:50:22.897212Z"
    }
   },
   "id": "a0dc74557c656cec",
   "execution_count": 102
  },
  {
   "cell_type": "code",
   "outputs": [],
   "source": [
    "from pathlib import Path\n",
    "import shutil\n",
    "\n",
    "for i, cluster in enumerate(file_name_per_cluster):\n",
    "    for filename in file_name_per_cluster[cluster]:\n",
    "        Path(f'../data/TSNE_2/{i}').mkdir(exist_ok = True, parents=True)\n",
    "        shutil.copy(filename, f'../data/TSNE_2/{i}/{Path(filename).name}')\n",
    "        "
   ],
   "metadata": {
    "collapsed": false,
    "ExecuteTime": {
     "end_time": "2024-03-02T22:51:11.613668Z",
     "start_time": "2024-03-02T22:51:07.711595Z"
    }
   },
   "id": "5989c748f3a54654",
   "execution_count": 104
  },
  {
   "cell_type": "code",
   "outputs": [
    {
     "data": {
      "text/plain": "['..\\\\data\\\\wiki_crop_filtered_mirrored_pose\\\\333250_1940-02-09_2006.jpg',\n '..\\\\data\\\\wiki_crop_filtered_mirrored_pose\\\\35406173_1993-03-18_2013.jpg',\n '..\\\\data\\\\wiki_crop_filtered_mirrored_pose\\\\690696_1923-08-15_1970.jpg',\n '..\\\\data\\\\wiki_crop_filtered_mirrored_pose\\\\965919_1936-05-23_1989.jpg',\n '..\\\\data\\\\wiki_crop_filtered_mirrored_pose\\\\21030557_1987-09-09_2011.jpg',\n '..\\\\data\\\\wiki_crop_filtered_mirrored_pose\\\\31174840_1987-05-15_2010.jpg',\n '..\\\\data\\\\wiki_crop_filtered_mirrored_pose\\\\438447_1958-05-29_2013.jpg',\n '..\\\\data\\\\wiki_crop_filtered_mirrored_pose\\\\15813016_1988-11-22_2013.jpg',\n '..\\\\data\\\\wiki_crop_filtered_mirrored_pose\\\\439959_1935-03-31_1966.jpg',\n '..\\\\data\\\\wiki_crop_filtered_mirrored_pose\\\\3633994_1957-11-27_2013.jpg']"
     },
     "execution_count": 63,
     "metadata": {},
     "output_type": "execute_result"
    }
   ],
   "source": [
    "import random\n",
    "random.sample(file_name_per_cluster[0], 10)"
   ],
   "metadata": {
    "collapsed": false,
    "ExecuteTime": {
     "end_time": "2024-03-02T22:27:10.313790Z",
     "start_time": "2024-03-02T22:27:10.300181Z"
    }
   },
   "id": "6f3eb059bc4c6cad",
   "execution_count": 63
  },
  {
   "cell_type": "code",
   "outputs": [],
   "source": [],
   "metadata": {
    "collapsed": false
   },
   "id": "2aa096d8f7d7c783"
  }
 ],
 "metadata": {
  "kernelspec": {
   "display_name": "Python 3",
   "language": "python",
   "name": "python3"
  },
  "language_info": {
   "codemirror_mode": {
    "name": "ipython",
    "version": 2
   },
   "file_extension": ".py",
   "mimetype": "text/x-python",
   "name": "python",
   "nbconvert_exporter": "python",
   "pygments_lexer": "ipython2",
   "version": "2.7.6"
  }
 },
 "nbformat": 4,
 "nbformat_minor": 5
}
