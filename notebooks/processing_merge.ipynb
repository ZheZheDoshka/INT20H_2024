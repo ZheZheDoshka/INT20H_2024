{
 "cells": [
  {
   "cell_type": "code",
   "execution_count": 15,
   "id": "initial_id",
   "metadata": {
    "collapsed": true,
    "ExecuteTime": {
     "end_time": "2024-03-02T22:03:07.828387Z",
     "start_time": "2024-03-02T22:03:07.811796Z"
    }
   },
   "outputs": [],
   "source": [
    "import json\n",
    "from pathlib import Path\n",
    "import shutil\n",
    "from collections import Counter"
   ]
  },
  {
   "cell_type": "code",
   "outputs": [],
   "source": [
    "from tqdm import tqdm"
   ],
   "metadata": {
    "collapsed": false,
    "ExecuteTime": {
     "end_time": "2024-03-02T22:03:07.937421Z",
     "start_time": "2024-03-02T22:03:07.927494Z"
    }
   },
   "id": "84782e8b5fbeacc2",
   "execution_count": 16
  },
  {
   "cell_type": "code",
   "outputs": [],
   "source": [
    "input_json_pose_folder = '../data/wiki_crop_mtcnn_pose_detection/json'\n",
    "input_json_filter_file = '../data/good_data3.json'\n",
    "\n",
    "sample_parent = '../data/wiki_crop/'\n",
    "sample_output = '../data/wiki_crop_filtered_pose'"
   ],
   "metadata": {
    "collapsed": false,
    "ExecuteTime": {
     "end_time": "2024-03-02T22:03:08.176080Z",
     "start_time": "2024-03-02T22:03:08.163088Z"
    }
   },
   "id": "cb94674c335c2526",
   "execution_count": 17
  },
  {
   "cell_type": "code",
   "outputs": [],
   "source": [
    "all_records = {}\n",
    "for json_file in Path(input_json_pose_folder).glob('*.json'):\n",
    "    with open(json_file, 'r') as f:\n",
    "        data = json.load(f)\n",
    "        for key, value in data.items():\n",
    "            all_records[f'{json_file.stem}/{key}'] = value"
   ],
   "metadata": {
    "collapsed": false,
    "ExecuteTime": {
     "end_time": "2024-03-02T22:03:10.581707Z",
     "start_time": "2024-03-02T22:03:08.299921Z"
    }
   },
   "id": "d538b3e73c000219",
   "execution_count": 18
  },
  {
   "cell_type": "code",
   "outputs": [],
   "source": [
    "with open(input_json_filter_file, 'r') as f:\n",
    "    good_data = json.load(f)"
   ],
   "metadata": {
    "collapsed": false,
    "ExecuteTime": {
     "end_time": "2024-03-02T22:03:10.633780Z",
     "start_time": "2024-03-02T22:03:10.605272Z"
    }
   },
   "id": "cf1da88674491d44",
   "execution_count": 19
  },
  {
   "cell_type": "code",
   "outputs": [
    {
     "data": {
      "text/plain": "62328"
     },
     "execution_count": 20,
     "metadata": {},
     "output_type": "execute_result"
    }
   ],
   "source": [
    "len(all_records)"
   ],
   "metadata": {
    "collapsed": false,
    "ExecuteTime": {
     "end_time": "2024-03-02T22:03:10.680526Z",
     "start_time": "2024-03-02T22:03:10.636083Z"
    }
   },
   "id": "f776601f11f425bf",
   "execution_count": 20
  },
  {
   "cell_type": "code",
   "outputs": [
    {
     "name": "stderr",
     "output_type": "stream",
     "text": [
      "100%|██████████| 62328/62328 [00:24<00:00, 2563.86it/s]\n"
     ]
    }
   ],
   "source": [
    "filtered_count = Counter()\n",
    "filtered_records = {}\n",
    "\n",
    "for key, value in tqdm(all_records.items()):\n",
    "    if len(value) > 1:\n",
    "        filtered_count['multiple'] += 1\n",
    "        continue\n",
    "    \n",
    "    value = value[0]\n",
    "    \n",
    "    if value['error'] is not None:\n",
    "        filtered_count[f'{value[\"error\"]}: {value[\"error_detail\"]}'] += 1\n",
    "        continue\n",
    "        \n",
    "    if key[3:] not in good_data:\n",
    "        filtered_count['bad_data'] += 1\n",
    "        continue\n",
    "        \n",
    "    if value['pred_label'] != 'frontal':\n",
    "        filtered_count['not_frontal'] += 1\n",
    "        continue\n",
    "    \n",
    "    filtered_records[key] = value"
   ],
   "metadata": {
    "collapsed": false,
    "ExecuteTime": {
     "end_time": "2024-03-02T22:03:35.026333Z",
     "start_time": "2024-03-02T22:03:10.683909Z"
    }
   },
   "id": "8d0d50ebbba0e77a",
   "execution_count": 21
  },
  {
   "cell_type": "code",
   "outputs": [
    {
     "data": {
      "text/plain": "Counter({'not_frontal': 25189,\n         'error_runtime: torch.cat(): expected a non-empty list of Tensors': 8070,\n         'error_no_face_detected: Bounding box is None, no face detected': 5452,\n         'bad_data': 5177,\n         'multiple': 3089})"
     },
     "execution_count": 22,
     "metadata": {},
     "output_type": "execute_result"
    }
   ],
   "source": [
    "filtered_count"
   ],
   "metadata": {
    "collapsed": false,
    "ExecuteTime": {
     "end_time": "2024-03-02T22:03:35.041778Z",
     "start_time": "2024-03-02T22:03:35.028504Z"
    }
   },
   "id": "e4bfe55eff663bc7",
   "execution_count": 22
  },
  {
   "cell_type": "code",
   "outputs": [
    {
     "data": {
      "text/plain": "15351"
     },
     "execution_count": 23,
     "metadata": {},
     "output_type": "execute_result"
    }
   ],
   "source": [
    "len(filtered_records)"
   ],
   "metadata": {
    "collapsed": false,
    "ExecuteTime": {
     "end_time": "2024-03-02T22:03:35.057251Z",
     "start_time": "2024-03-02T22:03:35.045101Z"
    }
   },
   "id": "ed708a3e96c97db2",
   "execution_count": 23
  },
  {
   "cell_type": "code",
   "outputs": [],
   "source": [
    "with open('../data/filtered_pose.json', 'w', encoding='utf-8') as f:\n",
    "    json.dump({k[3:]: v for k, v in filtered_records.items()}, f, ensure_ascii=False, indent=4)"
   ],
   "metadata": {
    "collapsed": false,
    "ExecuteTime": {
     "end_time": "2024-03-02T22:04:12.059661Z",
     "start_time": "2024-03-02T22:04:09.550031Z"
    }
   },
   "id": "5a962334119824ee",
   "execution_count": 25
  },
  {
   "cell_type": "code",
   "outputs": [
    {
     "name": "stderr",
     "output_type": "stream",
     "text": [
      "100%|██████████| 15351/15351 [00:45<00:00, 334.23it/s]\n"
     ]
    }
   ],
   "source": [
    "Path(sample_output).mkdir(exist_ok=True)\n",
    "\n",
    "for file_name in tqdm(filtered_records):\n",
    "    shutil.copy(str(Path(sample_parent) / file_name), str(Path(sample_output) / file_name[3:]))"
   ],
   "metadata": {
    "collapsed": false,
    "ExecuteTime": {
     "end_time": "2024-03-02T22:04:58.015550Z",
     "start_time": "2024-03-02T22:04:12.062907Z"
    }
   },
   "id": "af52f09160503c7b",
   "execution_count": 26
  },
  {
   "cell_type": "code",
   "outputs": [],
   "source": [],
   "metadata": {
    "collapsed": false
   },
   "id": "328a948a5440b1f0"
  }
 ],
 "metadata": {
  "kernelspec": {
   "display_name": "Python 3",
   "language": "python",
   "name": "python3"
  },
  "language_info": {
   "codemirror_mode": {
    "name": "ipython",
    "version": 2
   },
   "file_extension": ".py",
   "mimetype": "text/x-python",
   "name": "python",
   "nbconvert_exporter": "python",
   "pygments_lexer": "ipython2",
   "version": "2.7.6"
  }
 },
 "nbformat": 4,
 "nbformat_minor": 5
}
