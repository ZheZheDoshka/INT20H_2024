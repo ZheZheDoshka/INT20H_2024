{
 "cells": [
  {
   "cell_type": "code",
   "execution_count": 94,
   "id": "initial_id",
   "metadata": {
    "collapsed": true,
    "ExecuteTime": {
     "end_time": "2024-03-02T15:17:42.032553Z",
     "start_time": "2024-03-02T15:17:42.015766Z"
    }
   },
   "outputs": [],
   "source": [
    "from facenet_pytorch import MTCNN\n",
    "from PIL import Image\n",
    "from matplotlib import pyplot  as plt\n",
    "import numpy as np\n",
    "import math"
   ]
  },
  {
   "cell_type": "code",
   "outputs": [],
   "source": [
    "frontal_angle_r_range = range(35, 57)  # Right eye angle range for frontal face\n",
    "frontal_angle_l_range = range(35, 58)  # Left eye angle range for frontal face"
   ],
   "metadata": {
    "collapsed": false,
    "ExecuteTime": {
     "end_time": "2024-03-02T15:17:42.203838Z",
     "start_time": "2024-03-02T15:17:42.198173Z"
    }
   },
   "id": "59f83ae1370eb6d2",
   "execution_count": 95
  },
  {
   "cell_type": "code",
   "outputs": [],
   "source": [
    "mtcnn = MTCNN(\n",
    "    image_size=160,\n",
    "    margin=0,\n",
    "    min_face_size=20,\n",
    "    thresholds=[0.6, 0.7, 0.7], # MTCNN thresholds\n",
    "    factor=0.709,\n",
    "    post_process=True,\n",
    "    device='cpu'\n",
    ")"
   ],
   "metadata": {
    "collapsed": false,
    "ExecuteTime": {
     "end_time": "2024-03-02T15:17:42.419726Z",
     "start_time": "2024-03-02T15:17:42.383735Z"
    }
   },
   "id": "649c913d0cddfae0",
   "execution_count": 96
  },
  {
   "cell_type": "code",
   "outputs": [],
   "source": [
    "def angle(a, b, c):\n",
    "    ba = np.array(a) - np.array(b)\n",
    "    bc = np.array(c) - np.array(b) \n",
    "    \n",
    "    cosine_angle = np.dot(ba, bc)/(np.linalg.norm(ba)*np.linalg.norm(bc))\n",
    "    angle = np.arccos(cosine_angle)\n",
    "    \n",
    "    return np.degrees(angle)"
   ],
   "metadata": {
    "collapsed": false,
    "ExecuteTime": {
     "end_time": "2024-03-02T15:17:42.589185Z",
     "start_time": "2024-03-02T15:17:42.583774Z"
    }
   },
   "id": "a52097b84b1be7e6",
   "execution_count": 97
  },
  {
   "cell_type": "code",
   "outputs": [],
   "source": [
    "def pred_face_pose(file_path):\n",
    "    image = Image.open(file_path) # Reading the image\n",
    "    \n",
    "    if image.mode != \"RGB\":\n",
    "        im = image.convert('RGB')\n",
    "    \n",
    "    bbox_, prob_, landmarks_ = mtcnn.detect(image, landmarks=True) # The detection part producing bounding box, probability of the detected face, and the facial landmarks\n",
    "    \n",
    "    if bbox_ is None: \n",
    "        return [{'error': 'error_no_face_detected'}]\n",
    "    \n",
    "    faces = []\n",
    "    for bbox, landmarks, prob in zip(bbox_, landmarks_, prob_):\n",
    "        # To check if we detect a face in the image\n",
    "        if bbox is None: \n",
    "            faces.append({'error': 'error_no_face_detected'})\n",
    "            continue\n",
    "            \n",
    "        angle_r = angle(landmarks[0], landmarks[1], landmarks[2])  # Calculate the right eye angle\n",
    "        angle_l = angle(landmarks[1], landmarks[0], landmarks[2])  # Calculate the left eye angle\n",
    "    \n",
    "        if (int(angle_r) in frontal_angle_r_range) and (int(angle_l) in frontal_angle_l_range):\n",
    "            pred_label = 'frontal'\n",
    "        else: \n",
    "            if angle_r < angle_l:\n",
    "                pred_label = 'left'\n",
    "            else:\n",
    "                pred_label = 'right'\n",
    "                \n",
    "        face = {\n",
    "            'error': None,\n",
    "            'bbox': bbox.tolist(),\n",
    "            'landmarks': {\n",
    "                'left_eye': landmarks[0].tolist(),\n",
    "                'right_eye': landmarks[1].tolist(),\n",
    "                'nose': landmarks[2].tolist(),\n",
    "                'left_mouth': landmarks[3].tolist(),\n",
    "                'right_mouth': landmarks[4].tolist()\n",
    "            \n",
    "            },\n",
    "            'angle_r': angle_r,\n",
    "            'angle_l': angle_l,\n",
    "            'pred_prob': prob,\n",
    "            'pred_label': pred_label\n",
    "        }\n",
    "                \n",
    "        faces.append(face)\n",
    "            \n",
    "    return faces"
   ],
   "metadata": {
    "collapsed": false,
    "ExecuteTime": {
     "end_time": "2024-03-02T15:18:47.273433Z",
     "start_time": "2024-03-02T15:18:47.254969Z"
    }
   },
   "id": "d149c74b5b1e47a2",
   "execution_count": 100
  },
  {
   "cell_type": "code",
   "outputs": [],
   "source": [],
   "metadata": {
    "collapsed": false
   },
   "id": "46d95108cea0b008"
  }
 ],
 "metadata": {
  "kernelspec": {
   "display_name": "Python 3",
   "language": "python",
   "name": "python3"
  },
  "language_info": {
   "codemirror_mode": {
    "name": "ipython",
    "version": 2
   },
   "file_extension": ".py",
   "mimetype": "text/x-python",
   "name": "python",
   "nbconvert_exporter": "python",
   "pygments_lexer": "ipython2",
   "version": "2.7.6"
  }
 },
 "nbformat": 4,
 "nbformat_minor": 5
}
