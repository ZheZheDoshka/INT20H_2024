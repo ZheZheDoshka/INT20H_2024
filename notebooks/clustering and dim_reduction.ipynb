{
 "cells": [
  {
   "cell_type": "code",
   "outputs": [],
   "source": [
    "import pickle\n",
    "from sklearn import cluster, datasets"
   ],
   "metadata": {
    "collapsed": false,
    "ExecuteTime": {
     "end_time": "2024-03-03T05:52:56.650023Z",
     "start_time": "2024-03-03T05:52:55.052644Z"
    }
   },
   "id": "52f8bba5eed631a",
   "execution_count": 1
  },
  {
   "cell_type": "code",
   "outputs": [],
   "source": [
    "import pandas as pd\n",
    "import numpy as np"
   ],
   "metadata": {
    "collapsed": false,
    "ExecuteTime": {
     "end_time": "2024-03-03T05:52:57.067584Z",
     "start_time": "2024-03-03T05:52:56.652131Z"
    }
   },
   "id": "ef3b9f878e546191",
   "execution_count": 2
  },
  {
   "cell_type": "code",
   "outputs": [],
   "source": [
    "with open('../data/embeddings.pickle', 'rb') as handle:\n",
    "    embedded_photos = pickle.load(handle)"
   ],
   "metadata": {
    "collapsed": true,
    "ExecuteTime": {
     "end_time": "2024-03-03T05:52:58.310018Z",
     "start_time": "2024-03-03T05:52:57.851691Z"
    }
   },
   "id": "initial_id",
   "execution_count": 3
  },
  {
   "cell_type": "code",
   "outputs": [],
   "source": [
    "photo_paths = embedded_photos[1]"
   ],
   "metadata": {
    "collapsed": false,
    "ExecuteTime": {
     "end_time": "2024-03-03T05:53:00.638729Z",
     "start_time": "2024-03-03T05:53:00.631288Z"
    }
   },
   "id": "d3ec6073bdb1858f",
   "execution_count": 4
  },
  {
   "cell_type": "code",
   "outputs": [
    {
     "data": {
      "text/plain": "15351"
     },
     "execution_count": 10,
     "metadata": {},
     "output_type": "execute_result"
    }
   ],
   "source": [
    "len(embedded_photos[1])"
   ],
   "metadata": {
    "collapsed": false,
    "ExecuteTime": {
     "end_time": "2024-03-03T05:54:12.662794Z",
     "start_time": "2024-03-03T05:54:12.649797Z"
    }
   },
   "id": "95c871e3c4dc3f31",
   "execution_count": 10
  },
  {
   "cell_type": "code",
   "outputs": [],
   "source": [
    "\n",
    "from sklearn.decomposition import PCA\n",
    "# from sklearn.manifold import TSNE"
   ],
   "metadata": {
    "collapsed": false,
    "ExecuteTime": {
     "end_time": "2024-03-03T05:53:03.684443Z",
     "start_time": "2024-03-03T05:53:03.671293Z"
    }
   },
   "id": "af2a6c4a17b2bc71",
   "execution_count": 5
  },
  {
   "cell_type": "code",
   "outputs": [],
   "source": [
    "embedded_photos[0] = embedded_photos[0][:15000]\n",
    "#import numpy as np\n",
    "embedded_photos[0] = np.array(embedded_photos[0])"
   ],
   "metadata": {
    "collapsed": false,
    "ExecuteTime": {
     "end_time": "2024-03-03T05:53:06.588142Z",
     "start_time": "2024-03-03T05:53:06.301697Z"
    }
   },
   "id": "9cfd8cf8e7e74d25",
   "execution_count": 6
  },
  {
   "cell_type": "code",
   "outputs": [],
   "source": [
    "n_components = 128\n",
    "columns = [\"Component \" + str(i+1) for i in range(n_components)]\n",
    "\n",
    "red = PCA(n_components = n_components)\n",
    "X_red = red.fit_transform(embedded_photos[0])\n",
    "df_red = pd.DataFrame(data = X_red, columns = columns)"
   ],
   "metadata": {
    "collapsed": false,
    "ExecuteTime": {
     "end_time": "2024-03-03T05:53:13.768220Z",
     "start_time": "2024-03-03T05:53:11.995199Z"
    }
   },
   "id": "15b396c9c236ec7f",
   "execution_count": 7
  },
  {
   "cell_type": "code",
   "outputs": [],
   "source": [
    "df_red.to_pickle(f'../data/pca_dec')"
   ],
   "metadata": {
    "collapsed": false,
    "ExecuteTime": {
     "end_time": "2024-03-03T06:23:38.102364Z",
     "start_time": "2024-03-03T06:23:38.060581Z"
    }
   },
   "id": "66513cfaafe2684d",
   "execution_count": 14
  },
  {
   "cell_type": "code",
   "outputs": [],
   "source": [
    "# red = TSNE(n_components = 3)\n",
    "# X_red = red.fit_transform(embedded_photos[0])\n",
    "# df_red = pd.DataFrame(data = X_red, columns = ['0', '1', '2'])\n"
   ],
   "metadata": {
    "collapsed": false,
    "ExecuteTime": {
     "end_time": "2024-03-03T03:54:31.065347Z",
     "start_time": "2024-03-03T03:54:31.053766Z"
    }
   },
   "id": "518d5c9bfa09da51",
   "execution_count": 26
  },
  {
   "cell_type": "code",
   "outputs": [],
   "source": [
    "# from sklearn.cluster import KMeans\n",
    "# from sklearn.cluster import DBSCAN"
   ],
   "metadata": {
    "collapsed": false,
    "ExecuteTime": {
     "end_time": "2024-03-03T05:01:05.228550Z",
     "start_time": "2024-03-03T05:01:05.213639Z"
    }
   },
   "id": "94e8b601060f8343",
   "execution_count": 23
  },
  {
   "cell_type": "code",
   "outputs": [],
   "source": [
    "# n = 4\n",
    "# kmeans = KMeans(n_clusters=n, random_state=0, n_init=\"auto\")"
   ],
   "metadata": {
    "collapsed": false,
    "ExecuteTime": {
     "end_time": "2024-03-03T02:24:55.266842Z",
     "start_time": "2024-03-03T02:24:55.256194Z"
    }
   },
   "id": "f6f7d07ec600ca62",
   "execution_count": 24
  },
  {
   "cell_type": "code",
   "outputs": [],
   "source": [
    "# clusters = kmeans.fit(df_red)\n",
    "# clusters.labels_\n",
    "# df_clustered = pd.DataFrame({'cluster' : clusters.labels_})"
   ],
   "metadata": {
    "collapsed": false,
    "ExecuteTime": {
     "end_time": "2024-03-03T02:24:57.214975Z",
     "start_time": "2024-03-03T02:24:57.190744Z"
    }
   },
   "id": "384a2ffc57f3118d",
   "execution_count": 25
  },
  {
   "cell_type": "code",
   "outputs": [],
   "source": [
    "from sklearn.cluster import AgglomerativeClustering\n",
    "clustering = AgglomerativeClustering(n_clusters=8).fit(df_red)\n",
    "df_clustered = pd.DataFrame({'cluster' : clustering.labels_})"
   ],
   "metadata": {
    "collapsed": false,
    "ExecuteTime": {
     "end_time": "2024-03-03T06:49:12.416439Z",
     "start_time": "2024-03-03T06:48:57.394251Z"
    }
   },
   "id": "524887c6e986430c",
   "execution_count": 19
  },
  {
   "cell_type": "code",
   "outputs": [],
   "source": [
    "cluster_9000 = df_clustered.sample(9000)\n",
    "# clustering = DBSCAN(eps=3).fit(df_red)\n",
    "# df_clustered = pd.DataFrame({'cluster' : clustering.labels_})"
   ],
   "metadata": {
    "collapsed": false,
    "ExecuteTime": {
     "end_time": "2024-03-03T06:49:12.432108Z",
     "start_time": "2024-03-03T06:49:12.418532Z"
    }
   },
   "id": "b8d895825285d17f",
   "execution_count": 20
  },
  {
   "cell_type": "code",
   "outputs": [],
   "source": [
    "from collections import defaultdict\n",
    "\n",
    "file_name_per_cluster = defaultdict(list)\n",
    "\n",
    "for i, row in df_clustered.iterrows():\n",
    "    cluster = row['cluster']\n",
    "    file_name_per_cluster[cluster].append(photo_paths[i])\n",
    "    "
   ],
   "metadata": {
    "collapsed": false,
    "ExecuteTime": {
     "end_time": "2024-03-03T05:54:27.325265Z",
     "start_time": "2024-03-03T05:54:26.848716Z"
    }
   },
   "id": "a0dc74557c656cec",
   "execution_count": 11
  },
  {
   "cell_type": "code",
   "outputs": [],
   "source": [
    "from collections import defaultdict\n",
    "\n",
    "file_name_per_cluster = defaultdict(list)\n",
    "image_per_cluster = defaultdict(list)\n",
    "for i, row in df_clustered.iterrows():\n",
    "    cluster = row['cluster']\n",
    "    file_name_per_cluster[cluster].append(photo_paths[i])\n",
    "    image_per_cluster[cluster].append((embedded_photos[0])[i])"
   ],
   "metadata": {
    "collapsed": false,
    "ExecuteTime": {
     "end_time": "2024-03-03T05:10:30.976432Z",
     "start_time": "2024-03-03T05:10:30.650843Z"
    }
   },
   "id": "d0970c1694b3c5f8",
   "execution_count": 37
  },
  {
   "cell_type": "code",
   "outputs": [],
   "source": [],
   "metadata": {
    "collapsed": false
   },
   "id": "785eca15c5820527"
  },
  {
   "cell_type": "code",
   "outputs": [],
   "source": [
    " # for cluster in \n",
    " # np.mean(image_per_cluster[0], axis = 0)"
   ],
   "metadata": {
    "collapsed": false,
    "ExecuteTime": {
     "end_time": "2024-03-03T05:01:33.159386Z",
     "start_time": "2024-03-03T05:01:33.144928Z"
    }
   },
   "id": "8d40cbdd17c86871",
   "execution_count": 24
  },
  {
   "cell_type": "code",
   "outputs": [],
   "source": [
    "from collections import defaultdict\n",
    "\n",
    "file_name_per_cluster = defaultdict(list)\n",
    "\n",
    "for i, row in df_clustered.iterrows():\n",
    "    cluster = row['cluster']\n",
    "    file_name_per_cluster[cluster].append(photo_paths[i])\n",
    "    \n",
    "from pathlib import Path\n",
    "import shutil\n",
    "\n",
    "for i, cluster in enumerate(file_name_per_cluster):\n",
    "    for filename in file_name_per_cluster[cluster]:\n",
    "        Path(f'../data/PCA_11_i/{i}').mkdir(exist_ok = True, parents=True)\n",
    "        shutil.copy(filename, f'../data/PCA_11_i/{i}/{Path(filename).name}')"
   ],
   "metadata": {
    "collapsed": false
   },
   "id": "2aa096d8f7d7c783"
  },
  {
   "cell_type": "code",
   "outputs": [],
   "source": [
    "from collections import defaultdict\n",
    "\n",
    "file_name_per_cluster = defaultdict(list)\n",
    "\n",
    "for i, row in cluster_9000.iterrows():\n",
    "    cluster = row['cluster']\n",
    "    file_name_per_cluster[cluster].append(photo_paths[i])\n",
    "    \n",
    "from pathlib import Path\n",
    "import shutil\n",
    "\n",
    "for i, cluster in enumerate(file_name_per_cluster):\n",
    "    for filename in file_name_per_cluster[cluster]:\n",
    "        Path(f'../data/PCA_9000/{i}').mkdir(exist_ok = True, parents=True)\n",
    "        shutil.copy(filename, f'../data/PCA_9000/{i}/{Path(filename).name}')\n",
    "        "
   ],
   "metadata": {
    "collapsed": false,
    "ExecuteTime": {
     "end_time": "2024-03-03T06:49:38.514714Z",
     "start_time": "2024-03-03T06:49:31.167352Z"
    }
   },
   "id": "5989c748f3a54654",
   "execution_count": 21
  },
  {
   "cell_type": "code",
   "outputs": [],
   "source": [],
   "metadata": {
    "collapsed": false
   },
   "id": "dde997c35a531244"
  }
 ],
 "metadata": {
  "kernelspec": {
   "display_name": "Python 3",
   "language": "python",
   "name": "python3"
  },
  "language_info": {
   "codemirror_mode": {
    "name": "ipython",
    "version": 2
   },
   "file_extension": ".py",
   "mimetype": "text/x-python",
   "name": "python",
   "nbconvert_exporter": "python",
   "pygments_lexer": "ipython2",
   "version": "2.7.6"
  }
 },
 "nbformat": 4,
 "nbformat_minor": 5
}
