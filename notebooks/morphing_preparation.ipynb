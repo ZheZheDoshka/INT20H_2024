{
 "cells": [
  {
   "cell_type": "code",
   "outputs": [],
   "source": [
    "import os\n",
    "from pathlib import Path\n",
    "from collections import defaultdict\n",
    "import json"
   ],
   "metadata": {
    "collapsed": false,
    "ExecuteTime": {
     "end_time": "2024-03-03T05:40:01.570194Z",
     "start_time": "2024-03-03T05:40:01.563458Z"
    }
   },
   "id": "ea271de2c4cc1850",
   "execution_count": 1
  },
  {
   "cell_type": "code",
   "outputs": [],
   "source": [
    "import dlib\n",
    "from skimage import io\n",
    "from tqdm import tqdm"
   ],
   "metadata": {
    "collapsed": true,
    "ExecuteTime": {
     "end_time": "2024-03-03T05:40:04.470937Z",
     "start_time": "2024-03-03T05:40:01.571196Z"
    }
   },
   "id": "initial_id",
   "execution_count": 2
  },
  {
   "cell_type": "code",
   "outputs": [],
   "source": [
    "input_clusters = '../data/PCA_2_4'\n",
    "output_json_folder = '../data/PCA_2_4_landmarks'\n",
    "\n",
    "model = '../models/shape_predictor_68_face_landmarks.dat'"
   ],
   "metadata": {
    "collapsed": false,
    "ExecuteTime": {
     "end_time": "2024-03-03T05:40:04.486307Z",
     "start_time": "2024-03-03T05:40:04.471985Z"
    }
   },
   "id": "4a19abbdf88a8d2",
   "execution_count": 3
  },
  {
   "cell_type": "code",
   "outputs": [],
   "source": [
    "detector = dlib.get_frontal_face_detector()\n",
    "predictor = dlib.shape_predictor(model)"
   ],
   "metadata": {
    "collapsed": false,
    "ExecuteTime": {
     "end_time": "2024-03-03T05:40:05.402414Z",
     "start_time": "2024-03-03T05:40:04.487313Z"
    }
   },
   "id": "9bccae83643450e0",
   "execution_count": 4
  },
  {
   "cell_type": "code",
   "outputs": [],
   "source": [
    "Path(output_json_folder).mkdir(exist_ok=True, parents=True)"
   ],
   "metadata": {
    "collapsed": false,
    "ExecuteTime": {
     "end_time": "2024-03-03T05:40:05.417670Z",
     "start_time": "2024-03-03T05:40:05.404471Z"
    }
   },
   "id": "5a918afd133d9301",
   "execution_count": 5
  },
  {
   "cell_type": "code",
   "outputs": [
    {
     "name": "stderr",
     "output_type": "stream",
     "text": [
      "1560it [00:37, 41.39it/s]\n",
      "5238it [00:05, 1006.34it/s]\n",
      "4774it [03:40, 21.69it/s] \n",
      "3428it [03:05, 18.45it/s]\n"
     ]
    }
   ],
   "source": [
    "clusters_landmarks = defaultdict(dict)\n",
    "\n",
    "for cluster in Path(input_clusters).iterdir():\n",
    "    for image_file in tqdm(cluster.glob('*.jpg')):\n",
    "        if os.path.exists(Path(output_json_folder) / image_file.name.replace('.jpg', '.json')):\n",
    "            continue\n",
    "        \n",
    "        img = io.imread(str(image_file))\n",
    "        dets = detector(img, 1)\n",
    "        for k, d in enumerate(dets):\n",
    "            shape = predictor(img, d)\n",
    "\n",
    "            landmarks = [(shape.part(i).x, shape.part(i).y) for i in range(68)]\n",
    "\n",
    "            with open(Path(output_json_folder) / image_file.name.replace('.jpg', '.json'), 'w', encoding='utf-8') as f:\n",
    "                json.dump(landmarks, f, indent=4, ensure_ascii=False)"
   ],
   "metadata": {
    "collapsed": false,
    "ExecuteTime": {
     "end_time": "2024-03-03T05:47:51.835505Z",
     "start_time": "2024-03-03T05:40:23.013911Z"
    }
   },
   "id": "db70539550cf289a",
   "execution_count": 8
  },
  {
   "cell_type": "code",
   "outputs": [],
   "source": [],
   "metadata": {
    "collapsed": false
   },
   "id": "6348facfcf7c3694"
  }
 ],
 "metadata": {
  "kernelspec": {
   "display_name": "Python 3",
   "language": "python",
   "name": "python3"
  },
  "language_info": {
   "codemirror_mode": {
    "name": "ipython",
    "version": 2
   },
   "file_extension": ".py",
   "mimetype": "text/x-python",
   "name": "python",
   "nbconvert_exporter": "python",
   "pygments_lexer": "ipython2",
   "version": "2.7.6"
  }
 },
 "nbformat": 4,
 "nbformat_minor": 5
}
