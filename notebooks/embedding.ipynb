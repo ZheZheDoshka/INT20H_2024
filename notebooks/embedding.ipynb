{
 "cells": [
  {
   "cell_type": "code",
   "execution_count": 4,
   "id": "initial_id",
   "metadata": {
    "collapsed": true,
    "ExecuteTime": {
     "end_time": "2024-03-02T20:58:43.208180Z",
     "start_time": "2024-03-02T20:58:42.780104Z"
    }
   },
   "outputs": [],
   "source": [
    "from facenet_pytorch import MTCNN, InceptionResnetV1\n",
    "resnet = InceptionResnetV1(pretrained='vggface2').eval()"
   ]
  },
  {
   "cell_type": "code",
   "outputs": [],
   "source": [
    "import processing.load_dataset as load_dataset"
   ],
   "metadata": {
    "collapsed": false,
    "ExecuteTime": {
     "end_time": "2024-03-02T20:58:36.438051Z",
     "start_time": "2024-03-02T20:58:33.718314Z"
    }
   },
   "id": "e3105d82360a6bc7",
   "execution_count": 1
  },
  {
   "cell_type": "code",
   "outputs": [
    {
     "data": {
      "text/plain": "'../data/wiki_crop_filtered_mirrored_pose/'"
     },
     "execution_count": 2,
     "metadata": {},
     "output_type": "execute_result"
    }
   ],
   "source": [
    "load_dataset.img_dir"
   ],
   "metadata": {
    "collapsed": false,
    "ExecuteTime": {
     "end_time": "2024-03-02T20:58:36.453970Z",
     "start_time": "2024-03-02T20:58:36.439054Z"
    }
   },
   "id": "3eedaf7a8f62313b",
   "execution_count": 2
  },
  {
   "cell_type": "code",
   "outputs": [],
   "source": [
    "data, dataset, data_loader = load_dataset.generate_dataset(load_dataset.img_dir) "
   ],
   "metadata": {
    "collapsed": false,
    "ExecuteTime": {
     "end_time": "2024-03-02T20:58:39.508071Z",
     "start_time": "2024-03-02T20:58:39.471665Z"
    }
   },
   "id": "7eb3b2cce921f902",
   "execution_count": 3
  },
  {
   "cell_type": "code",
   "outputs": [],
   "source": [
    "\n",
    "\n",
    "train_features, target = next(iter(data_loader))\n",
    "train_features = train_features.permute(0, 3, 1, 2)\n",
    "img_embedding = resnet(train_features)"
   ],
   "metadata": {
    "collapsed": false,
    "ExecuteTime": {
     "end_time": "2024-03-02T21:01:22.138176Z",
     "start_time": "2024-03-02T21:01:21.294841Z"
    }
   },
   "id": "c104576e99610e74",
   "execution_count": 9
  },
  {
   "cell_type": "code",
   "outputs": [],
   "source": [
    "img_embedding.size()\n",
    "from tqdm import tqdm"
   ],
   "metadata": {
    "collapsed": false,
    "ExecuteTime": {
     "end_time": "2024-03-02T21:09:53.973737Z",
     "start_time": "2024-03-02T21:09:53.961569Z"
    }
   },
   "id": "a999f14afa46a562",
   "execution_count": 13
  },
  {
   "cell_type": "code",
   "outputs": [
    {
     "name": "stderr",
     "output_type": "stream",
     "text": [
      "100%|██████████| 209/209 [02:25<00:00,  1.43batch/s]\n"
     ]
    }
   ],
   "source": [
    "embeddings = []\n",
    "labels = []\n",
    "with tqdm(data_loader, unit=\"batch\") as tepoch:\n",
    "    for data in tepoch:\n",
    "        inputs, names = data\n",
    "        # print(inputs)\n",
    "        inputs = inputs.permute(0, 3, 1, 2)\n",
    "        img_embedding = resnet(train_features)\n",
    "        embeddings += img_embedding.tolist()\n",
    "        labels += names"
   ],
   "metadata": {
    "collapsed": false,
    "ExecuteTime": {
     "end_time": "2024-03-02T21:14:41.044538Z",
     "start_time": "2024-03-02T21:12:15.139209Z"
    }
   },
   "id": "edfba64e20eee295",
   "execution_count": 17
  },
  {
   "cell_type": "code",
   "outputs": [],
   "source": [
    "embedded_photos = [embeddings, names]"
   ],
   "metadata": {
    "collapsed": false,
    "ExecuteTime": {
     "end_time": "2024-03-02T21:16:07.953765Z",
     "start_time": "2024-03-02T21:16:07.944718Z"
    }
   },
   "id": "7d52532cf7a04b9b",
   "execution_count": 21
  },
  {
   "cell_type": "code",
   "outputs": [],
   "source": [
    "import pickle\n",
    "\n",
    "\n",
    "with open('../data/embeddings.pickle', 'wb') as handle:\n",
    "    pickle.dump(embedded_photos, handle, protocol=pickle.HIGHEST_PROTOCOL)"
   ],
   "metadata": {
    "collapsed": false,
    "ExecuteTime": {
     "end_time": "2024-03-02T21:16:20.364948Z",
     "start_time": "2024-03-02T21:16:20.278978Z"
    }
   },
   "id": "59cef73656039ca9",
   "execution_count": 22
  },
  {
   "cell_type": "code",
   "outputs": [],
   "source": [
    "with open('../data/embeddings.pickle', 'rb') as handle:\n",
    "    embedded_photos = pickle.load(handle)"
   ],
   "metadata": {
    "collapsed": false,
    "ExecuteTime": {
     "end_time": "2024-03-02T21:18:08.084062Z",
     "start_time": "2024-03-02T21:18:07.943718Z"
    }
   },
   "id": "8f8ed4c35e2e9b6",
   "execution_count": 23
  },
  {
   "cell_type": "code",
   "outputs": [],
   "source": [],
   "metadata": {
    "collapsed": false
   },
   "id": "c2c43ff8ca1d179b"
  }
 ],
 "metadata": {
  "kernelspec": {
   "display_name": "Python 3",
   "language": "python",
   "name": "python3"
  },
  "language_info": {
   "codemirror_mode": {
    "name": "ipython",
    "version": 2
   },
   "file_extension": ".py",
   "mimetype": "text/x-python",
   "name": "python",
   "nbconvert_exporter": "python",
   "pygments_lexer": "ipython2",
   "version": "2.7.6"
  }
 },
 "nbformat": 4,
 "nbformat_minor": 5
}
