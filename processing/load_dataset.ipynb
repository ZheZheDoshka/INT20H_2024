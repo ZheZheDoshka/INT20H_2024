{
 "cells": [
  {
   "cell_type": "code",
   "outputs": [],
   "source": [
    "import pandas as pd\n",
    "import numpy as np\n",
    "\n",
    "from pathlib import Path"
   ],
   "metadata": {
    "collapsed": false,
    "ExecuteTime": {
     "end_time": "2024-03-02T14:28:38.973569Z",
     "start_time": "2024-03-02T14:28:38.955782Z"
    }
   },
   "id": "bcdf77de878417a1",
   "execution_count": 56
  },
  {
   "cell_type": "code",
   "outputs": [],
   "source": [
    "from torchvision.datasets import ImageFolder\n",
    "from torchvision import transforms\n",
    "from torch.utils.data import DataLoader\n",
    "from torch.utils.data import Dataset\n",
    "import torchvision\n",
    "\n",
    "import torch"
   ],
   "metadata": {
    "collapsed": false,
    "ExecuteTime": {
     "end_time": "2024-03-02T15:17:28.627991Z",
     "start_time": "2024-03-02T15:17:28.623761Z"
    }
   },
   "id": "d56bfebd38a93144",
   "execution_count": 72
  },
  {
   "cell_type": "code",
   "outputs": [],
   "source": [
    "INPUT_HEIGHT = 224"
   ],
   "metadata": {
    "collapsed": false
   },
   "id": "b85e2d9615aa6e7"
  },
  {
   "cell_type": "code",
   "outputs": [],
   "source": [
    "sample  = '../data/wiki_crop'"
   ],
   "metadata": {
    "collapsed": false,
    "ExecuteTime": {
     "end_time": "2024-03-02T14:28:39.254083Z",
     "start_time": "2024-03-02T14:28:39.242580Z"
    }
   },
   "id": "f70cf4174848e079",
   "execution_count": 57
  },
  {
   "cell_type": "code",
   "outputs": [],
   "source": [
    "def generate_df(data_path):\n",
    "    path = Path(sample)\n",
    "    data = [(p, p.parent.name) for p in path.glob(\"**/*.jpg\")]\n",
    "    \n",
    "    labels = [d[1] for d in data]\n",
    "    filenames = [d[0] for d in data]\n",
    "    data = pd.DataFrame({'image_path' : filenames,'label' : labels,})\n",
    "    return data"
   ],
   "metadata": {
    "collapsed": true,
    "ExecuteTime": {
     "end_time": "2024-03-02T14:38:56.506525Z",
     "start_time": "2024-03-02T14:38:56.490621Z"
    }
   },
   "id": "initial_id",
   "execution_count": 66
  },
  {
   "cell_type": "code",
   "outputs": [],
   "source": [
    "\n",
    "data = generate_df(\"data/wiki_crop\")\n"
   ],
   "metadata": {
    "collapsed": false,
    "ExecuteTime": {
     "end_time": "2024-03-02T14:39:09.642201Z",
     "start_time": "2024-03-02T14:39:08.940128Z"
    }
   },
   "id": "7b985c2a2867070c",
   "execution_count": 68
  },
  {
   "cell_type": "code",
   "outputs": [
    {
     "data": {
      "text/plain": "                                              image_path label\n0      ..\\data\\wiki_crop\\00\\10049200_1891-09-16_1958.jpg    00\n1      ..\\data\\wiki_crop\\00\\10110600_1985-09-17_2012.jpg    00\n2      ..\\data\\wiki_crop\\00\\10126400_1964-07-07_2010.jpg    00\n3       ..\\data\\wiki_crop\\00\\1013900_1917-10-15_1960.jpg    00\n4      ..\\data\\wiki_crop\\00\\10166400_1960-03-12_2008.jpg    00\n...                                                  ...   ...\n62323      ..\\data\\wiki_crop\\99\\9799_1960-06-22_2012.jpg    99\n62324   ..\\data\\wiki_crop\\99\\9811999_1953-06-14_2004.jpg    99\n62325    ..\\data\\wiki_crop\\99\\981199_1954-12-30_2006.jpg    99\n62326   ..\\data\\wiki_crop\\99\\9863599_1948-08-13_1963.jpg    99\n62327    ..\\data\\wiki_crop\\99\\995799_1978-01-27_2011.jpg    99\n\n[62328 rows x 2 columns]",
      "text/html": "<div>\n<style scoped>\n    .dataframe tbody tr th:only-of-type {\n        vertical-align: middle;\n    }\n\n    .dataframe tbody tr th {\n        vertical-align: top;\n    }\n\n    .dataframe thead th {\n        text-align: right;\n    }\n</style>\n<table border=\"1\" class=\"dataframe\">\n  <thead>\n    <tr style=\"text-align: right;\">\n      <th></th>\n      <th>image_path</th>\n      <th>label</th>\n    </tr>\n  </thead>\n  <tbody>\n    <tr>\n      <th>0</th>\n      <td>..\\data\\wiki_crop\\00\\10049200_1891-09-16_1958.jpg</td>\n      <td>00</td>\n    </tr>\n    <tr>\n      <th>1</th>\n      <td>..\\data\\wiki_crop\\00\\10110600_1985-09-17_2012.jpg</td>\n      <td>00</td>\n    </tr>\n    <tr>\n      <th>2</th>\n      <td>..\\data\\wiki_crop\\00\\10126400_1964-07-07_2010.jpg</td>\n      <td>00</td>\n    </tr>\n    <tr>\n      <th>3</th>\n      <td>..\\data\\wiki_crop\\00\\1013900_1917-10-15_1960.jpg</td>\n      <td>00</td>\n    </tr>\n    <tr>\n      <th>4</th>\n      <td>..\\data\\wiki_crop\\00\\10166400_1960-03-12_2008.jpg</td>\n      <td>00</td>\n    </tr>\n    <tr>\n      <th>...</th>\n      <td>...</td>\n      <td>...</td>\n    </tr>\n    <tr>\n      <th>62323</th>\n      <td>..\\data\\wiki_crop\\99\\9799_1960-06-22_2012.jpg</td>\n      <td>99</td>\n    </tr>\n    <tr>\n      <th>62324</th>\n      <td>..\\data\\wiki_crop\\99\\9811999_1953-06-14_2004.jpg</td>\n      <td>99</td>\n    </tr>\n    <tr>\n      <th>62325</th>\n      <td>..\\data\\wiki_crop\\99\\981199_1954-12-30_2006.jpg</td>\n      <td>99</td>\n    </tr>\n    <tr>\n      <th>62326</th>\n      <td>..\\data\\wiki_crop\\99\\9863599_1948-08-13_1963.jpg</td>\n      <td>99</td>\n    </tr>\n    <tr>\n      <th>62327</th>\n      <td>..\\data\\wiki_crop\\99\\995799_1978-01-27_2011.jpg</td>\n      <td>99</td>\n    </tr>\n  </tbody>\n</table>\n<p>62328 rows × 2 columns</p>\n</div>"
     },
     "execution_count": 69,
     "metadata": {},
     "output_type": "execute_result"
    }
   ],
   "source": [
    "data"
   ],
   "metadata": {
    "collapsed": false,
    "ExecuteTime": {
     "end_time": "2024-03-02T14:39:13.817812Z",
     "start_time": "2024-03-02T14:39:13.794618Z"
    }
   },
   "id": "d3834ca9795fab5",
   "execution_count": 69
  },
  {
   "cell_type": "code",
   "outputs": [],
   "source": [
    "import json\n",
    "from PIL import Image\n",
    "class ImageDataset(Dataset):\n",
    "    \"\"\"\n",
    "    Class that creates dataset for training task\n",
    "    Arguments: \n",
    "    img_dir - directory of all images\n",
    "    df - dataframe with cleaned dataset\n",
    "    transform - transform\n",
    "    \"\"\"\n",
    "    def __init__(self, img_dir, df=None, transform=None):\n",
    "        self.img_dir = img_dir\n",
    "        self.df = df\n",
    "        self.transform = transform\n",
    "\n",
    "    def __len__(self):\n",
    "        return self.df.shape[0]\n",
    "\n",
    "    def __getitem__(self, idx):\n",
    "        img_path = self.df + f'/{self.df[\"image_path\"][idx]}'\n",
    "        image = Image.open(img_path)\n",
    "        target = self.df['image_path'][idx]\n",
    "        return image, target"
   ],
   "metadata": {
    "collapsed": false,
    "ExecuteTime": {
     "end_time": "2024-03-02T15:17:31.510485Z",
     "start_time": "2024-03-02T15:17:31.499712Z"
    }
   },
   "id": "7e48869e16900b38",
   "execution_count": 73
  },
  {
   "cell_type": "code",
   "outputs": [],
   "source": [],
   "metadata": {
    "collapsed": false
   },
   "id": "bd4079e9199367fe"
  }
 ],
 "metadata": {
  "kernelspec": {
   "display_name": "Python 3",
   "language": "python",
   "name": "python3"
  },
  "language_info": {
   "codemirror_mode": {
    "name": "ipython",
    "version": 2
   },
   "file_extension": ".py",
   "mimetype": "text/x-python",
   "name": "python",
   "nbconvert_exporter": "python",
   "pygments_lexer": "ipython2",
   "version": "2.7.6"
  }
 },
 "nbformat": 4,
 "nbformat_minor": 5
}
