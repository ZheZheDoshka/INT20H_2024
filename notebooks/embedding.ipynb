{
 "cells": [
  {
   "cell_type": "code",
   "execution_count": 10,
   "id": "initial_id",
   "metadata": {
    "collapsed": true,
    "ExecuteTime": {
     "end_time": "2024-03-03T05:46:36.208898Z",
     "start_time": "2024-03-03T05:46:35.977448Z"
    }
   },
   "outputs": [],
   "source": [
    "from facenet_pytorch import InceptionResnetV1\n",
    "resnet = InceptionResnetV1(pretrained='vggface2').eval()\n",
    "import pandas as pd"
   ]
  },
  {
   "cell_type": "code",
   "outputs": [],
   "source": [
    "import processing.load_dataset as load_dataset"
   ],
   "metadata": {
    "collapsed": false,
    "ExecuteTime": {
     "end_time": "2024-03-03T05:46:13.914936Z",
     "start_time": "2024-03-03T05:46:13.900332Z"
    }
   },
   "id": "e3105d82360a6bc7",
   "execution_count": 5
  },
  {
   "cell_type": "code",
   "outputs": [
    {
     "data": {
      "text/plain": "'../data/wiki_crop_filtered_mirrored_pose/'"
     },
     "execution_count": 6,
     "metadata": {},
     "output_type": "execute_result"
    }
   ],
   "source": [
    "load_dataset.img_dir"
   ],
   "metadata": {
    "collapsed": false,
    "ExecuteTime": {
     "end_time": "2024-03-03T05:46:13.930121Z",
     "start_time": "2024-03-03T05:46:13.916122Z"
    }
   },
   "id": "3eedaf7a8f62313b",
   "execution_count": 6
  },
  {
   "cell_type": "code",
   "outputs": [],
   "source": [
    "data, dataset, data_loader = load_dataset.generate_dataset('../data/wiki_crop_cut_pose/') "
   ],
   "metadata": {
    "collapsed": false,
    "ExecuteTime": {
     "end_time": "2024-03-03T05:46:20.361686Z",
     "start_time": "2024-03-03T05:46:13.931106Z"
    }
   },
   "id": "7eb3b2cce921f902",
   "execution_count": 7
  },
  {
   "cell_type": "code",
   "outputs": [
    {
     "data": {
      "text/plain": "                                              image_path  \\\n0      ..\\data\\wiki_crop_cut_pose\\10000217_1981-05-05...   \n1      ..\\data\\wiki_crop_cut_pose\\10002702_1960-11-09...   \n2      ..\\data\\wiki_crop_cut_pose\\10004299_1908-08-19...   \n3      ..\\data\\wiki_crop_cut_pose\\1000456_1933-06-12_...   \n4      ..\\data\\wiki_crop_cut_pose\\10005947_1981-04-07...   \n...                                                  ...   \n15346  ..\\data\\wiki_crop_cut_pose\\9994102_1992-03-13_...   \n15347  ..\\data\\wiki_crop_cut_pose\\9996412_1933-04-16_...   \n15348  ..\\data\\wiki_crop_cut_pose\\9996683_1929-12-19_...   \n15349  ..\\data\\wiki_crop_cut_pose\\9998109_1972-12-27_...   \n15350  ..\\data\\wiki_crop_cut_pose\\999980_1954-06-11_2...   \n\n                                                    bbox  \n0      [78.03558349609375, 50.9105110168457, 192.5664...  \n1      [54.34510803222656, 32.450340270996094, 140.85...  \n2      [112.69740295410156, 53.04941940307617, 254.60...  \n3      [70.50338745117188, 42.280845642089844, 172.69...  \n4      [155.69866943359375, 96.75624084472656, 342.22...  \n...                                                  ...  \n15346  [125.29251098632812, 72.32479095458984, 270.90...  \n15347  [149.26229858398438, 84.78887176513672, 368.49...  \n15348  [103.65365600585938, 47.12149429321289, 252.17...  \n15349  [32.43375778198242, 13.016458511352539, 93.190...  \n15350  [65.64671325683594, 35.258358001708984, 182.54...  \n\n[15351 rows x 2 columns]",
      "text/html": "<div>\n<style scoped>\n    .dataframe tbody tr th:only-of-type {\n        vertical-align: middle;\n    }\n\n    .dataframe tbody tr th {\n        vertical-align: top;\n    }\n\n    .dataframe thead th {\n        text-align: right;\n    }\n</style>\n<table border=\"1\" class=\"dataframe\">\n  <thead>\n    <tr style=\"text-align: right;\">\n      <th></th>\n      <th>image_path</th>\n      <th>bbox</th>\n    </tr>\n  </thead>\n  <tbody>\n    <tr>\n      <th>0</th>\n      <td>..\\data\\wiki_crop_cut_pose\\10000217_1981-05-05...</td>\n      <td>[78.03558349609375, 50.9105110168457, 192.5664...</td>\n    </tr>\n    <tr>\n      <th>1</th>\n      <td>..\\data\\wiki_crop_cut_pose\\10002702_1960-11-09...</td>\n      <td>[54.34510803222656, 32.450340270996094, 140.85...</td>\n    </tr>\n    <tr>\n      <th>2</th>\n      <td>..\\data\\wiki_crop_cut_pose\\10004299_1908-08-19...</td>\n      <td>[112.69740295410156, 53.04941940307617, 254.60...</td>\n    </tr>\n    <tr>\n      <th>3</th>\n      <td>..\\data\\wiki_crop_cut_pose\\1000456_1933-06-12_...</td>\n      <td>[70.50338745117188, 42.280845642089844, 172.69...</td>\n    </tr>\n    <tr>\n      <th>4</th>\n      <td>..\\data\\wiki_crop_cut_pose\\10005947_1981-04-07...</td>\n      <td>[155.69866943359375, 96.75624084472656, 342.22...</td>\n    </tr>\n    <tr>\n      <th>...</th>\n      <td>...</td>\n      <td>...</td>\n    </tr>\n    <tr>\n      <th>15346</th>\n      <td>..\\data\\wiki_crop_cut_pose\\9994102_1992-03-13_...</td>\n      <td>[125.29251098632812, 72.32479095458984, 270.90...</td>\n    </tr>\n    <tr>\n      <th>15347</th>\n      <td>..\\data\\wiki_crop_cut_pose\\9996412_1933-04-16_...</td>\n      <td>[149.26229858398438, 84.78887176513672, 368.49...</td>\n    </tr>\n    <tr>\n      <th>15348</th>\n      <td>..\\data\\wiki_crop_cut_pose\\9996683_1929-12-19_...</td>\n      <td>[103.65365600585938, 47.12149429321289, 252.17...</td>\n    </tr>\n    <tr>\n      <th>15349</th>\n      <td>..\\data\\wiki_crop_cut_pose\\9998109_1972-12-27_...</td>\n      <td>[32.43375778198242, 13.016458511352539, 93.190...</td>\n    </tr>\n    <tr>\n      <th>15350</th>\n      <td>..\\data\\wiki_crop_cut_pose\\999980_1954-06-11_2...</td>\n      <td>[65.64671325683594, 35.258358001708984, 182.54...</td>\n    </tr>\n  </tbody>\n</table>\n<p>15351 rows × 2 columns</p>\n</div>"
     },
     "execution_count": 8,
     "metadata": {},
     "output_type": "execute_result"
    }
   ],
   "source": [
    "data"
   ],
   "metadata": {
    "collapsed": false,
    "ExecuteTime": {
     "end_time": "2024-03-03T05:46:20.377067Z",
     "start_time": "2024-03-03T05:46:20.362986Z"
    }
   },
   "id": "10abf39378912cde",
   "execution_count": 8
  },
  {
   "cell_type": "code",
   "outputs": [],
   "source": [
    "\n",
    "from tqdm import tqdm"
   ],
   "metadata": {
    "collapsed": false,
    "ExecuteTime": {
     "end_time": "2024-03-03T05:46:35.976343Z",
     "start_time": "2024-03-03T05:46:35.961327Z"
    }
   },
   "id": "a999f14afa46a562",
   "execution_count": 9
  },
  {
   "cell_type": "code",
   "outputs": [
    {
     "name": "stdout",
     "output_type": "stream",
     "text": [
      "WARNING:tensorflow:From C:\\Users\\Admin\\PycharmProjects\\INT20h\\.venv\\lib\\site-packages\\keras\\src\\losses.py:2976: The name tf.losses.sparse_softmax_cross_entropy is deprecated. Please use tf.compat.v1.losses.sparse_softmax_cross_entropy instead.\n"
     ]
    }
   ],
   "source": [
    "#from transformers import AutoImageProcessor, AutoModelForImageClassification\n",
    "#\n",
    "#model_name = \"dima806/facial_emotions_image_detection\"\n",
    "#model = AutoImageProcessor.from_pretrained(model_name)"
   ],
   "metadata": {
    "collapsed": false,
    "ExecuteTime": {
     "end_time": "2024-03-03T03:20:43.543928Z",
     "start_time": "2024-03-03T03:20:37.842188Z"
    }
   },
   "id": "f0b8f44872f0646b",
   "execution_count": 6
  },
  {
   "cell_type": "code",
   "outputs": [],
   "source": [
    "#model_name = \"rizvandwiki/gender-classification\"\n",
    "#model_gender = AutoModelForImageClassification.from_pretrained(model_name)"
   ],
   "metadata": {
    "collapsed": false,
    "ExecuteTime": {
     "end_time": "2024-03-03T03:20:43.954733Z",
     "start_time": "2024-03-03T03:20:43.545044Z"
    }
   },
   "id": "3d7a300de554d73d",
   "execution_count": 7
  },
  {
   "cell_type": "code",
   "outputs": [
    {
     "name": "stderr",
     "output_type": "stream",
     "text": [
      "100%|██████████| 481/481 [02:01<00:00,  3.96batch/s]\n"
     ]
    }
   ],
   "source": [
    "\"\"\"\n",
    "embeddings = []\n",
    "labels = []\n",
    "with tqdm(data_loader, unit=\"batch\") as tepoch:\n",
    "    for data in tepoch:\n",
    "        inputs, names = data\n",
    "        inputs = inputs.permute(0, 3, 1, 2)\n",
    "        img_embedding = model(inputs*255.0)\n",
    "        embeddings += img_embedding\n",
    "        labels += names\n",
    "\n",
    "embedded_photos = [embeddings, labels]\n",
    "\n",
    "import pickle\n",
    "\n",
    "\n",
    "with open('../data/embeddings_emotion.pickle', 'wb') as handle:\n",
    "    pickle.dump(embedded_photos, handle, protocol=pickle.HIGHEST_PROTOCOL)\n",
    "\"\"\""
   ],
   "metadata": {
    "collapsed": false,
    "ExecuteTime": {
     "end_time": "2024-03-03T02:11:33.861823Z",
     "start_time": "2024-03-03T02:09:32.376520Z"
    }
   },
   "id": "9e9b718c09b9808c",
   "execution_count": 26
  },
  {
   "cell_type": "code",
   "outputs": [],
   "source": [],
   "metadata": {
    "collapsed": false,
    "ExecuteTime": {
     "end_time": "2024-03-03T02:11:33.939622Z",
     "start_time": "2024-03-03T02:11:33.862906Z"
    }
   },
   "id": "5f9a45af16c939d2",
   "execution_count": 27
  },
  {
   "cell_type": "code",
   "outputs": [
    {
     "name": "stderr",
     "output_type": "stream",
     "text": [
      "100%|██████████| 480/480 [04:12<00:00,  1.90batch/s]\n"
     ]
    }
   ],
   "source": [
    "embeddings = []\n",
    "labels = []\n",
    "with tqdm(data_loader, unit=\"batch\") as tepoch:\n",
    "    for data in tepoch:\n",
    "        inputs, names = data\n",
    "        inputs = inputs.permute(0, 3, 1, 2)\n",
    "        img_embedding = resnet(inputs)\n",
    "        embeddings += img_embedding.tolist()\n",
    "        labels += names"
   ],
   "metadata": {
    "collapsed": false,
    "ExecuteTime": {
     "end_time": "2024-03-03T05:52:21.580185Z",
     "start_time": "2024-03-03T05:48:09.131228Z"
    }
   },
   "id": "edfba64e20eee295",
   "execution_count": 12
  },
  {
   "cell_type": "code",
   "outputs": [],
   "source": [
    "embedded_photos = [embeddings, labels]\n",
    "\n",
    "import pickle\n",
    "\n",
    "\n",
    "with open('../data/embeddings.pickle', 'wb') as handle:\n",
    "    pickle.dump(embedded_photos, handle, protocol=pickle.HIGHEST_PROTOCOL)"
   ],
   "metadata": {
    "collapsed": false,
    "ExecuteTime": {
     "end_time": "2024-03-03T05:52:21.766302Z",
     "start_time": "2024-03-03T05:52:21.582421Z"
    }
   },
   "id": "7d52532cf7a04b9b",
   "execution_count": 13
  },
  {
   "cell_type": "code",
   "outputs": [],
   "source": [
    "with open('../data/embeddings.pickle', 'rb') as handle:\n",
    "    embedded_photos = pickle.load(handle)"
   ],
   "metadata": {
    "collapsed": false,
    "ExecuteTime": {
     "end_time": "2024-03-02T23:49:48.387514Z",
     "start_time": "2024-03-02T23:49:48.048145Z"
    }
   },
   "id": "8f8ed4c35e2e9b6",
   "execution_count": 14
  }
 ],
 "metadata": {
  "kernelspec": {
   "display_name": "Python 3",
   "language": "python",
   "name": "python3"
  },
  "language_info": {
   "codemirror_mode": {
    "name": "ipython",
    "version": 2
   },
   "file_extension": ".py",
   "mimetype": "text/x-python",
   "name": "python",
   "nbconvert_exporter": "python",
   "pygments_lexer": "ipython2",
   "version": "2.7.6"
  }
 },
 "nbformat": 4,
 "nbformat_minor": 5
}
