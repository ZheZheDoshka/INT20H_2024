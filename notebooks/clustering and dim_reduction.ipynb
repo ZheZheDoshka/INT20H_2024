{
 "cells": [
  {
   "cell_type": "code",
   "outputs": [],
   "source": [
    "import pickle\n",
    "from sklearn import cluster, datasets"
   ],
   "metadata": {
    "collapsed": false,
    "ExecuteTime": {
     "end_time": "2024-03-03T04:15:24.633455Z",
     "start_time": "2024-03-03T04:15:23.472660Z"
    }
   },
   "id": "52f8bba5eed631a",
   "execution_count": 1
  },
  {
   "cell_type": "code",
   "outputs": [],
   "source": [
    "import pandas as pd\n",
    "import numpy as np"
   ],
   "metadata": {
    "collapsed": false,
    "ExecuteTime": {
     "end_time": "2024-03-03T04:15:25.021556Z",
     "start_time": "2024-03-03T04:15:24.633455Z"
    }
   },
   "id": "ef3b9f878e546191",
   "execution_count": 2
  },
  {
   "cell_type": "code",
   "outputs": [],
   "source": [
    "with open('../data/embeddings.pickle', 'rb') as handle:\n",
    "    embedded_photos = pickle.load(handle)"
   ],
   "metadata": {
    "collapsed": true,
    "ExecuteTime": {
     "end_time": "2024-03-03T04:15:25.616762Z",
     "start_time": "2024-03-03T04:15:25.262748Z"
    }
   },
   "id": "initial_id",
   "execution_count": 3
  },
  {
   "cell_type": "code",
   "outputs": [],
   "source": [
    "photo_paths = embedded_photos[1]"
   ],
   "metadata": {
    "collapsed": false,
    "ExecuteTime": {
     "end_time": "2024-03-03T04:16:59.069309Z",
     "start_time": "2024-03-03T04:16:59.051643Z"
    }
   },
   "id": "d3ec6073bdb1858f",
   "execution_count": 4
  },
  {
   "cell_type": "code",
   "outputs": [],
   "source": [
    "\n",
    "from sklearn.decomposition import PCA\n",
    "from sklearn.manifold import TSNE"
   ],
   "metadata": {
    "collapsed": false,
    "ExecuteTime": {
     "end_time": "2024-03-03T04:16:59.947537Z",
     "start_time": "2024-03-03T04:16:59.934461Z"
    }
   },
   "id": "af2a6c4a17b2bc71",
   "execution_count": 5
  },
  {
   "cell_type": "code",
   "outputs": [],
   "source": [
    "embedded_photos[0] = embedded_photos[0][:15000]\n",
    "#import numpy as np\n",
    "embedded_photos[0] = np.array(embedded_photos[0])"
   ],
   "metadata": {
    "collapsed": false,
    "ExecuteTime": {
     "end_time": "2024-03-03T04:17:01.730950Z",
     "start_time": "2024-03-03T04:17:01.294335Z"
    }
   },
   "id": "9cfd8cf8e7e74d25",
   "execution_count": 6
  },
  {
   "cell_type": "code",
   "outputs": [],
   "source": [
    "n_components = 64\n",
    "columns = [\"Component \" + str(i+1) for i in range(n_components)]\n",
    "\n",
    "red = PCA(n_components = n_components)\n",
    "X_red = red.fit_transform(embedded_photos[0])\n",
    "df_red = pd.DataFrame(data = X_red, columns = columns)"
   ],
   "metadata": {
    "collapsed": false,
    "ExecuteTime": {
     "end_time": "2024-03-03T04:17:06.174624Z",
     "start_time": "2024-03-03T04:17:05.794369Z"
    }
   },
   "id": "15b396c9c236ec7f",
   "execution_count": 7
  },
  {
   "cell_type": "code",
   "outputs": [],
   "source": [
    "red = TSNE(n_components = 3)\n",
    "X_red = red.fit_transform(embedded_photos[0])\n",
    "df_red = pd.DataFrame(data = X_red, columns = ['0', '1', '2'])\n"
   ],
   "metadata": {
    "collapsed": false,
    "ExecuteTime": {
     "end_time": "2024-03-03T03:54:31.065347Z",
     "start_time": "2024-03-03T03:54:31.053766Z"
    }
   },
   "id": "518d5c9bfa09da51",
   "execution_count": 26
  },
  {
   "cell_type": "code",
   "outputs": [],
   "source": [
    "from sklearn.cluster import KMeans"
   ],
   "metadata": {
    "collapsed": false,
    "ExecuteTime": {
     "end_time": "2024-03-03T02:19:23.755261Z",
     "start_time": "2024-03-03T02:19:23.740635Z"
    }
   },
   "id": "94e8b601060f8343",
   "execution_count": 8
  },
  {
   "cell_type": "code",
   "outputs": [],
   "source": [
    "n = 4\n",
    "kmeans = KMeans(n_clusters=n, random_state=0, n_init=\"auto\")"
   ],
   "metadata": {
    "collapsed": false,
    "ExecuteTime": {
     "end_time": "2024-03-03T02:24:55.266842Z",
     "start_time": "2024-03-03T02:24:55.256194Z"
    }
   },
   "id": "f6f7d07ec600ca62",
   "execution_count": 24
  },
  {
   "cell_type": "code",
   "outputs": [],
   "source": [
    "clusters = kmeans.fit(df_red)"
   ],
   "metadata": {
    "collapsed": false,
    "ExecuteTime": {
     "end_time": "2024-03-03T02:24:57.214975Z",
     "start_time": "2024-03-03T02:24:57.190744Z"
    }
   },
   "id": "384a2ffc57f3118d",
   "execution_count": 25
  },
  {
   "cell_type": "code",
   "outputs": [
    {
     "data": {
      "text/plain": "array([0, 2, 3, ..., 1, 1, 1])"
     },
     "execution_count": 26,
     "metadata": {},
     "output_type": "execute_result"
    }
   ],
   "source": [
    "clusters.labels_"
   ],
   "metadata": {
    "collapsed": false,
    "ExecuteTime": {
     "end_time": "2024-03-03T02:25:02.895144Z",
     "start_time": "2024-03-03T02:25:02.888202Z"
    }
   },
   "id": "b8d445ab75aefa6d",
   "execution_count": 26
  },
  {
   "cell_type": "code",
   "outputs": [],
   "source": [
    "df_clustered = pd.DataFrame({'cluster' : clusters.labels_})"
   ],
   "metadata": {
    "collapsed": false,
    "ExecuteTime": {
     "end_time": "2024-03-03T02:25:28.736527Z",
     "start_time": "2024-03-03T02:25:28.723156Z"
    }
   },
   "id": "2693cf8e6920f567",
   "execution_count": 27
  },
  {
   "cell_type": "code",
   "outputs": [],
   "source": [],
   "metadata": {
    "collapsed": false
   },
   "id": "f206661903ddfe38"
  },
  {
   "cell_type": "code",
   "outputs": [
    {
     "data": {
      "text/plain": "'..\\\\data\\\\wiki_crop_cut_pose\\\\8083_1965-02-18_2011.jpg'"
     },
     "execution_count": 21,
     "metadata": {},
     "output_type": "execute_result"
    }
   ],
   "source": [
    "photo_paths[0]"
   ],
   "metadata": {
    "collapsed": false,
    "ExecuteTime": {
     "end_time": "2024-03-03T02:21:15.159157Z",
     "start_time": "2024-03-03T02:21:15.153749Z"
    }
   },
   "id": "3dbaa51cc475f55c",
   "execution_count": 21
  },
  {
   "cell_type": "code",
   "outputs": [],
   "source": [
    "from sklearn.cluster import AgglomerativeClustering\n",
    "clustering = AgglomerativeClustering(n_clusters=4).fit(df_red)\n",
    "df_clustered = pd.DataFrame({'cluster' : clustering.labels_})"
   ],
   "metadata": {
    "collapsed": false,
    "ExecuteTime": {
     "end_time": "2024-03-03T04:17:43.673036Z",
     "start_time": "2024-03-03T04:17:33.161006Z"
    }
   },
   "id": "524887c6e986430c",
   "execution_count": 8
  },
  {
   "cell_type": "code",
   "outputs": [],
   "source": [],
   "metadata": {
    "collapsed": false,
    "ExecuteTime": {
     "end_time": "2024-03-03T03:55:51.140197Z",
     "start_time": "2024-03-03T03:55:51.126814Z"
    }
   },
   "id": "b8d895825285d17f",
   "execution_count": 29
  },
  {
   "cell_type": "code",
   "outputs": [],
   "source": [
    "from collections import defaultdict\n",
    "\n",
    "file_name_per_cluster = defaultdict(list)\n",
    "\n",
    "for i, row in df_clustered.iterrows():\n",
    "    cluster = row['cluster']\n",
    "    file_name_per_cluster[cluster].append(photo_paths[i])\n",
    "    "
   ],
   "metadata": {
    "collapsed": false,
    "ExecuteTime": {
     "end_time": "2024-03-03T03:55:51.466526Z",
     "start_time": "2024-03-03T03:55:51.142342Z"
    }
   },
   "id": "a0dc74557c656cec",
   "execution_count": 30
  },
  {
   "cell_type": "code",
   "outputs": [],
   "source": [
    "from collections import defaultdict\n",
    "\n",
    "file_name_per_cluster = defaultdict(list)\n",
    "image_per_cluster = defaultdict(list)\n",
    "for i, row in df_clustered.iterrows():\n",
    "    cluster = row['cluster']\n",
    "    file_name_per_cluster[cluster].append(photo_paths[i])\n",
    "    image_per_cluster[cluster].append((embedded_photos[0])[i])"
   ],
   "metadata": {
    "collapsed": false,
    "ExecuteTime": {
     "end_time": "2024-03-03T04:17:58.931020Z",
     "start_time": "2024-03-03T04:17:58.607673Z"
    }
   },
   "id": "d0970c1694b3c5f8",
   "execution_count": 9
  },
  {
   "cell_type": "code",
   "outputs": [
    {
     "data": {
      "text/plain": "array([ 1.79244260e-02, -9.72741440e-03, -3.99613593e-02,  1.64963829e-02,\n       -1.00598429e-02, -1.63253270e-03, -6.73671588e-03, -6.74115785e-03,\n       -1.62922165e-02,  1.71479639e-04,  3.63216413e-03, -2.00019910e-02,\n       -8.12747287e-03, -2.04479824e-02,  2.76709902e-02, -2.00943117e-02,\n        8.30837842e-03,  6.85408667e-03, -1.42188577e-02, -2.41908294e-02,\n       -4.12169830e-02,  2.05239742e-02,  2.56008411e-02,  7.23692025e-03,\n       -1.95356453e-02,  3.82687929e-02, -1.09428530e-02, -3.39044738e-02,\n        1.30736536e-02, -9.48813832e-03, -4.02692699e-02,  4.03400330e-02,\n       -9.55268516e-03,  4.22503727e-03, -2.20511121e-02,  2.15592704e-02,\n       -5.30046860e-03, -1.28108598e-02, -2.52172702e-02,  6.16525012e-03,\n       -1.51003355e-03, -1.83961866e-02,  3.49925161e-03, -2.34608754e-02,\n        1.00915307e-02,  4.15574821e-05, -2.09610956e-03,  2.67625553e-02,\n       -4.71452508e-02,  1.14966454e-02,  2.22638147e-02,  1.17466487e-02,\n        6.56210799e-03,  1.53804543e-02, -3.85462690e-02, -3.90825346e-03,\n       -4.01424792e-03,  9.58339656e-03,  2.37890876e-02,  2.69147241e-03,\n        1.50043512e-03,  3.30843207e-02, -1.68445204e-02, -1.68538754e-02,\n        2.14273288e-03,  5.11150847e-03, -3.27623110e-03, -4.79268114e-03,\n       -1.23077237e-02,  3.59201373e-02,  9.60690158e-03,  3.02436378e-02,\n       -2.24650789e-03,  1.04457219e-02, -5.18825384e-04, -2.68197046e-02,\n       -3.94635145e-02, -1.99138021e-02, -2.76002293e-02,  1.01552147e-02,\n        4.26117609e-02,  3.04257031e-02, -1.73358122e-02,  7.31152650e-03,\n        1.16705740e-02, -2.86821619e-03, -1.45020592e-03,  4.79270118e-03,\n       -1.32561436e-02, -1.08980734e-02,  4.16470243e-02,  3.71080178e-03,\n        3.56384154e-02, -2.74931494e-02,  4.07536282e-02,  2.63820709e-02,\n       -3.93293153e-04,  8.30408018e-03, -3.29458556e-02, -1.96285914e-03,\n        1.13181732e-02, -2.70613654e-02, -1.12085831e-02,  1.54467064e-02,\n       -3.60062781e-02, -7.02800174e-04,  2.00386243e-02, -1.17892693e-02,\n       -4.24471697e-02, -1.62165980e-02,  2.03079717e-02, -1.57914195e-02,\n       -1.59260248e-02, -2.35506163e-02, -1.73294537e-02, -3.24492843e-02,\n        7.35536939e-03, -2.89543820e-02, -2.68922766e-02,  3.89282231e-02,\n       -2.03567264e-02,  1.23507429e-02, -1.97882260e-02, -2.23852640e-02,\n       -2.12713373e-02, -3.96020019e-02,  7.14300247e-03,  3.91976047e-03,\n       -2.39462064e-03, -1.96282241e-02, -1.55833244e-02, -3.62841941e-02,\n        8.50524473e-03, -6.89996455e-04, -6.62831856e-02,  8.81458301e-03,\n        1.06025524e-03, -1.34410829e-02,  1.29078480e-02,  5.56111040e-02,\n       -1.48182626e-03,  1.82641681e-02,  5.24968418e-03,  2.05094434e-02,\n        1.92289958e-02, -1.23298679e-02, -4.22174886e-03, -1.20969732e-02,\n       -9.92708734e-03,  1.98021218e-03,  1.59761952e-02,  1.60589019e-02,\n       -3.87346349e-02,  9.83571298e-03,  4.11551311e-02, -1.92317769e-02,\n       -2.81162891e-02,  1.52481679e-02,  2.90471808e-02, -2.65480945e-02,\n        4.69440635e-02, -9.42352078e-03,  4.20478503e-04,  2.34310778e-02,\n        7.47736163e-03, -1.12524053e-02, -2.00650664e-02, -1.49367764e-02,\n       -1.55870304e-02, -1.82717687e-03, -1.59953300e-02,  1.50051693e-02,\n       -6.84501350e-03, -1.45639271e-02,  1.10602832e-02,  3.34326002e-02,\n        1.61293030e-02,  1.33057405e-02, -2.48518539e-02, -7.03784369e-03,\n       -2.87234770e-02, -2.78849446e-02, -3.61687977e-02,  2.86036370e-03,\n        2.43477028e-03,  1.32224640e-02,  1.22297325e-02,  1.62713718e-02,\n        1.46180866e-02,  3.43661714e-02,  2.35070990e-02, -2.25272961e-02,\n        5.11274160e-02, -1.88885174e-02,  2.63978100e-04, -1.16709711e-02,\n       -1.40227854e-03,  9.18324312e-06, -3.85338640e-02, -8.06828378e-04,\n        1.64884434e-02,  1.22775461e-02, -4.80072428e-03,  2.18586105e-03,\n        8.21666722e-03,  3.85792090e-03,  3.24744912e-02, -2.65377532e-02,\n       -4.94618176e-03,  4.34652973e-02,  1.57910736e-02,  1.15255641e-04,\n       -2.04174106e-02,  1.50165779e-02,  1.11100754e-03,  7.35670189e-03,\n       -1.52043247e-03, -3.47471011e-04, -2.16120659e-02,  2.22560439e-02,\n        1.84917583e-03, -4.16740491e-02, -3.49078186e-02, -1.25610900e-02,\n       -1.90317992e-03, -1.73040726e-02, -5.80586873e-03,  1.52318470e-02,\n       -3.43951994e-02,  1.08364883e-02,  2.75689593e-02,  2.23539766e-02,\n       -1.53712398e-02, -3.75821592e-02, -2.84003628e-02, -8.64642638e-03,\n       -4.17864900e-03,  1.51820286e-02,  2.50475820e-03, -3.79752089e-02,\n        1.15066754e-02, -1.47137070e-02, -3.02209914e-02,  6.86801038e-04,\n        1.81865447e-02,  3.19511135e-02,  1.91585851e-02,  2.31407762e-02,\n        1.46948928e-02,  3.59152544e-02, -2.18093937e-02,  7.42030104e-03,\n       -3.00229168e-03, -1.33322746e-02,  3.45553167e-03,  1.46193356e-03,\n       -5.02709514e-03, -1.39194873e-02,  8.86234623e-03,  3.32792297e-02,\n        9.15675854e-03, -1.09757631e-02,  1.88899472e-02, -4.41059395e-02,\n        8.23463310e-04, -1.80650177e-02, -1.43873084e-02,  5.19313697e-03,\n       -2.34608478e-02, -3.93245711e-02,  1.59527215e-02,  6.61537902e-03,\n        1.62411149e-02,  1.11790928e-02,  1.68966830e-02, -5.31734366e-03,\n       -2.53388824e-03,  9.01807875e-03,  1.46153021e-02,  2.08699085e-02,\n        5.82895183e-03,  6.15256585e-03, -1.90037144e-02, -5.12076150e-02,\n       -3.44512518e-02, -9.75901167e-03, -2.86062849e-03,  2.84381151e-02,\n       -2.07926203e-02, -2.79935017e-02, -4.13406043e-03, -8.40768161e-03,\n        2.81935591e-02,  3.17372285e-03, -1.77314194e-02, -5.19662720e-02,\n        2.44714276e-03,  4.86734625e-03,  6.81098500e-04, -5.14191431e-04,\n        1.65942927e-02, -3.21534069e-02,  1.99153975e-02, -1.76872503e-02,\n        3.71205783e-02, -1.13260523e-02, -1.73271160e-03, -1.15763391e-02,\n        2.55423220e-02,  2.61008203e-02, -1.06148369e-02,  2.66244208e-02,\n        4.52902173e-03,  1.12516050e-02,  2.43306200e-02,  8.46192034e-03,\n       -2.77319895e-02,  5.41529175e-03,  3.54946508e-03,  3.86489931e-03,\n        3.84216485e-02, -2.31115883e-03, -3.18680615e-03,  1.68386816e-02,\n       -7.30400476e-03, -1.70920457e-02, -2.33931098e-02,  2.39217919e-02,\n       -9.51580639e-03,  1.43936369e-02,  1.85793512e-02,  1.42451457e-02,\n       -6.35590459e-04,  3.69208878e-02, -1.18443694e-02,  8.07948644e-04,\n       -3.30790754e-02, -1.71528334e-02,  1.91375425e-02, -1.53804906e-02,\n        9.93958943e-03,  6.94949206e-03,  1.39074883e-02, -3.29930856e-02,\n        3.83049265e-02, -2.66782216e-02, -7.67476874e-04,  1.42574634e-02,\n        3.66449168e-02,  9.66211695e-03, -2.21634274e-02, -1.41312713e-02,\n       -4.07679367e-02, -6.32010868e-03, -2.37032099e-02,  2.95690655e-02,\n        2.01814252e-02, -2.05757449e-02,  2.42446429e-02,  1.36298514e-02,\n       -4.53901016e-03, -3.55601007e-03, -2.23108364e-02, -1.60779344e-03,\n       -2.57393807e-02,  1.41042677e-03,  3.40484069e-02,  2.73202539e-04,\n       -1.49386718e-03, -5.23947160e-02,  7.53920406e-03, -5.55899047e-03,\n       -1.65794353e-02,  1.39414287e-02,  3.82851039e-03,  5.61108052e-02,\n       -1.16922889e-02,  2.23226842e-02, -2.92158059e-02, -2.48598701e-02,\n       -6.40803821e-03, -2.64918443e-02, -1.34234487e-02,  2.31413775e-02,\n        2.30823706e-02, -2.77845039e-02, -2.71898997e-02,  8.31475118e-03,\n        1.86668152e-03, -1.14654307e-02,  2.46945462e-02,  9.04398519e-03,\n        1.60448031e-02, -1.09752532e-02, -2.65425819e-02, -2.70635023e-02,\n        3.30490859e-03,  2.27644541e-02, -9.36545776e-03,  4.81916446e-03,\n       -2.89882444e-02,  2.01581335e-02, -1.89498602e-02,  3.21713381e-02,\n       -1.38723880e-02, -1.55522290e-02, -1.09658692e-03, -3.12729012e-02,\n       -4.41819138e-03, -2.86909710e-03,  2.01575649e-02, -2.94374023e-03,\n        1.61563735e-02, -5.35532112e-03,  2.04320558e-02, -2.26253789e-03,\n        2.14532475e-02,  3.06905154e-02, -2.64044165e-02, -2.91136563e-02,\n       -1.34530748e-02, -1.04568038e-02, -1.10197690e-02,  8.58908965e-03,\n       -1.61581333e-02,  1.12393529e-02,  4.62264166e-02,  1.24676165e-02,\n        1.36834003e-02, -2.46625648e-02, -7.83502309e-03,  1.17460692e-02,\n       -1.03127545e-02, -5.74486050e-02, -1.33026756e-03,  7.95932664e-03,\n       -6.82091972e-03, -2.37986661e-02,  2.80984728e-04, -7.64465490e-03,\n       -2.29453359e-02,  1.73241557e-02, -1.69117001e-02,  4.93007151e-02,\n       -2.79753779e-02,  2.63914786e-03, -6.41888256e-03,  3.80274278e-02,\n       -1.93982490e-02, -2.32031755e-02, -2.46152058e-02,  1.68015317e-02,\n        7.18088058e-04, -4.79724496e-02,  1.05329429e-03,  1.58195500e-02,\n        4.08785482e-03,  3.12736153e-02,  3.60657098e-02,  1.72625496e-02,\n       -1.84017714e-02,  2.43287561e-02, -2.17026021e-03,  1.68267182e-02,\n        2.71547852e-02, -1.05226112e-02,  3.77557059e-03,  1.95659321e-03,\n        1.80265080e-02,  1.06689585e-02,  3.29010639e-02, -7.49172699e-04,\n        1.39702041e-02, -1.73948801e-03, -1.92707227e-02,  8.77432391e-04,\n        2.90906697e-02, -1.65068280e-03,  2.76657682e-02,  1.44847918e-02,\n        6.86122098e-03, -8.30887005e-03,  2.15368359e-02,  1.05751940e-02,\n       -8.40323326e-03, -1.13850628e-02, -5.41681370e-02,  3.30869646e-02,\n        5.10046274e-03, -2.34294294e-02,  9.64002363e-03, -1.82911255e-02,\n        1.69031118e-02, -4.38507100e-02,  2.93102885e-02, -3.26375607e-02,\n        4.68780008e-03, -8.36658417e-03,  2.89427572e-02, -2.68769171e-02,\n       -1.95426383e-02,  2.27123231e-04, -1.15275507e-02,  1.36876570e-02,\n       -1.44308077e-03,  4.34079957e-02, -1.57804363e-02, -3.67798275e-03,\n       -7.80315966e-03, -1.73154000e-02,  1.38693200e-02, -1.66192756e-02])"
     },
     "execution_count": 15,
     "metadata": {},
     "output_type": "execute_result"
    }
   ],
   "source": [
    " for cluster in \n",
    " np.mean(image_per_cluster[0], axis = 0)"
   ],
   "metadata": {
    "collapsed": false,
    "ExecuteTime": {
     "end_time": "2024-03-03T04:23:59.512783Z",
     "start_time": "2024-03-03T04:23:59.483351Z"
    }
   },
   "id": "8d40cbdd17c86871",
   "execution_count": 15
  },
  {
   "cell_type": "code",
   "outputs": [
    {
     "data": {
      "text/plain": "1560"
     },
     "execution_count": 14,
     "metadata": {},
     "output_type": "execute_result"
    }
   ],
   "source": [
    "len(image_per_cluster[0])"
   ],
   "metadata": {
    "collapsed": false,
    "ExecuteTime": {
     "end_time": "2024-03-03T04:23:59.480867Z",
     "start_time": "2024-03-03T04:23:59.466454Z"
    }
   },
   "id": "a079fea8d63f5d60",
   "execution_count": 14
  },
  {
   "cell_type": "code",
   "outputs": [],
   "source": [
    "# for cluster in image_per_cluster:\n",
    "#     cluster"
   ],
   "metadata": {
    "collapsed": false
   },
   "id": "f27dcd8a384ecce1"
  },
  {
   "cell_type": "code",
   "outputs": [],
   "source": [
    "from pathlib import Path\n",
    "import shutil\n",
    "\n",
    "for i, cluster in enumerate(file_name_per_cluster):\n",
    "    for filename in file_name_per_cluster[cluster]:\n",
    "        Path(f'../data/PCA_3_4/{i}').mkdir(exist_ok = True, parents=True)\n",
    "        shutil.copy(filename, f'../data/PCA_3_4/{i}/{Path(filename).name}')\n",
    "        "
   ],
   "metadata": {
    "collapsed": false,
    "ExecuteTime": {
     "end_time": "2024-03-03T04:18:35.357403Z",
     "start_time": "2024-03-03T04:18:27.509446Z"
    }
   },
   "id": "5989c748f3a54654",
   "execution_count": 10
  },
  {
   "cell_type": "code",
   "outputs": [
    {
     "data": {
      "text/plain": "['..\\\\data\\\\wiki_crop_filtered_mirrored_pose\\\\333250_1940-02-09_2006.jpg',\n '..\\\\data\\\\wiki_crop_filtered_mirrored_pose\\\\35406173_1993-03-18_2013.jpg',\n '..\\\\data\\\\wiki_crop_filtered_mirrored_pose\\\\690696_1923-08-15_1970.jpg',\n '..\\\\data\\\\wiki_crop_filtered_mirrored_pose\\\\965919_1936-05-23_1989.jpg',\n '..\\\\data\\\\wiki_crop_filtered_mirrored_pose\\\\21030557_1987-09-09_2011.jpg',\n '..\\\\data\\\\wiki_crop_filtered_mirrored_pose\\\\31174840_1987-05-15_2010.jpg',\n '..\\\\data\\\\wiki_crop_filtered_mirrored_pose\\\\438447_1958-05-29_2013.jpg',\n '..\\\\data\\\\wiki_crop_filtered_mirrored_pose\\\\15813016_1988-11-22_2013.jpg',\n '..\\\\data\\\\wiki_crop_filtered_mirrored_pose\\\\439959_1935-03-31_1966.jpg',\n '..\\\\data\\\\wiki_crop_filtered_mirrored_pose\\\\3633994_1957-11-27_2013.jpg']"
     },
     "execution_count": 63,
     "metadata": {},
     "output_type": "execute_result"
    }
   ],
   "source": [
    "import random\n",
    "random.sample(file_name_per_cluster[0], 10)"
   ],
   "metadata": {
    "collapsed": false,
    "ExecuteTime": {
     "end_time": "2024-03-02T22:27:10.313790Z",
     "start_time": "2024-03-02T22:27:10.300181Z"
    }
   },
   "id": "6f3eb059bc4c6cad",
   "execution_count": 63
  },
  {
   "cell_type": "code",
   "outputs": [],
   "source": [],
   "metadata": {
    "collapsed": false
   },
   "id": "2aa096d8f7d7c783"
  }
 ],
 "metadata": {
  "kernelspec": {
   "display_name": "Python 3",
   "language": "python",
   "name": "python3"
  },
  "language_info": {
   "codemirror_mode": {
    "name": "ipython",
    "version": 2
   },
   "file_extension": ".py",
   "mimetype": "text/x-python",
   "name": "python",
   "nbconvert_exporter": "python",
   "pygments_lexer": "ipython2",
   "version": "2.7.6"
  }
 },
 "nbformat": 4,
 "nbformat_minor": 5
}
