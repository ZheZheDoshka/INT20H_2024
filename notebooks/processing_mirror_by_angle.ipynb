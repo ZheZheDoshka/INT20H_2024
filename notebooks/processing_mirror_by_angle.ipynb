{
 "cells": [
  {
   "cell_type": "code",
   "outputs": [],
   "source": [
    "import json\n",
    "from pathlib import Path\n",
    "import shutil"
   ],
   "metadata": {
    "collapsed": false,
    "ExecuteTime": {
     "end_time": "2024-03-02T18:47:12.537231Z",
     "start_time": "2024-03-02T18:47:12.522713Z"
    }
   },
   "id": "initial_id",
   "execution_count": 49
  },
  {
   "cell_type": "code",
   "outputs": [],
   "source": [
    "import cv2\n",
    "from tqdm import tqdm"
   ],
   "metadata": {
    "collapsed": false,
    "ExecuteTime": {
     "end_time": "2024-03-02T18:47:12.850167Z",
     "start_time": "2024-03-02T18:47:12.839111Z"
    }
   },
   "id": "84782e8b5fbeacc2",
   "execution_count": 50
  },
  {
   "cell_type": "markdown",
   "source": [
    "# Mirror left leaning poses to right leaning poses"
   ],
   "metadata": {
    "collapsed": false
   },
   "id": "133a9e00e653f101"
  },
  {
   "cell_type": "code",
   "outputs": [],
   "source": [
    "angle_l_limit = 52  # Left leaning arbitrary limit"
   ],
   "metadata": {
    "collapsed": false,
    "ExecuteTime": {
     "end_time": "2024-03-02T18:47:13.365670Z",
     "start_time": "2024-03-02T18:47:13.361221Z"
    }
   },
   "id": "840f7a76a64f1258",
   "execution_count": 51
  },
  {
   "cell_type": "code",
   "outputs": [],
   "source": [
    "input_json_pose_file = '../data/filtered_pose.json'\n",
    "input_json_pose_folder = '../data/wiki_crop_filtered_pose'\n",
    "\n",
    "output_json_pose_mirrored_file = '../data/filtered_pose_mirrored.json'\n",
    "output_json_pose_mirrored_folder = '../data/wiki_crop_filtered_mirrored_pose'"
   ],
   "metadata": {
    "collapsed": false,
    "ExecuteTime": {
     "end_time": "2024-03-02T18:48:38.918401Z",
     "start_time": "2024-03-02T18:48:38.905347Z"
    }
   },
   "id": "cb94674c335c2526",
   "execution_count": 56
  },
  {
   "cell_type": "code",
   "outputs": [],
   "source": [
    "with open(input_json_pose_file, 'r') as f:\n",
    "    records = json.load(f)"
   ],
   "metadata": {
    "collapsed": false,
    "ExecuteTime": {
     "end_time": "2024-03-02T18:48:39.275901Z",
     "start_time": "2024-03-02T18:48:39.150384Z"
    }
   },
   "id": "79b45bee8d0a700a",
   "execution_count": 57
  },
  {
   "cell_type": "code",
   "outputs": [
    {
     "name": "stderr",
     "output_type": "stream",
     "text": [
      "100%|██████████| 6661/6661 [00:12<00:00, 529.59it/s]\n"
     ]
    }
   ],
   "source": [
    "Path(output_json_pose_mirrored_folder).mkdir(exist_ok=True)\n",
    "\n",
    "count = 0\n",
    "for file_name in tqdm(records):\n",
    "    values = records[file_name]\n",
    "    \n",
    "    if not values['angle_l'] > angle_l_limit:\n",
    "    # if not values['angle_l'] > values['angle_r']:\n",
    "        shutil.copy(f'{input_json_pose_folder}/{file_name}', f'{output_json_pose_mirrored_folder}/{file_name}')\n",
    "        continue\n",
    "\n",
    "    image = cv2.imread(f'{input_json_pose_folder}/{file_name}')\n",
    "    _, width, _ = image.shape\n",
    "    image = cv2.flip(image, 1)\n",
    "    cv2.imwrite(f'{output_json_pose_mirrored_folder}/{file_name}', image)\n",
    "    \n",
    "    new_bbox = [\n",
    "        width - values['bbox'][2], \n",
    "        values['bbox'][1], \n",
    "        width - values['bbox'][0], \n",
    "        values['bbox'][3]\n",
    "    ]\n",
    "\n",
    "    new_landmarks = {}\n",
    "    for key, values in new_landmarks.items():\n",
    "        new_landmarks[key] = [width - values[0], values[1]]\n",
    "    \n",
    "    # Flip the angles\n",
    "    angle_l, angle_r = values['angle_r'], values['angle_l']\n",
    "    \n",
    "    values.update({\n",
    "        'bbox': new_bbox,\n",
    "        'landmarks': new_landmarks,\n",
    "        'angle_l': angle_l,\n",
    "        'angle_r': angle_r\n",
    "    })\n",
    "    \n",
    "    count += 1"
   ],
   "metadata": {
    "collapsed": false,
    "ExecuteTime": {
     "end_time": "2024-03-02T18:48:51.954597Z",
     "start_time": "2024-03-02T18:48:39.364026Z"
    }
   },
   "id": "328a948a5440b1f0",
   "execution_count": 58
  },
  {
   "cell_type": "code",
   "outputs": [
    {
     "name": "stdout",
     "output_type": "stream",
     "text": [
      "2674\n"
     ]
    }
   ],
   "source": [
    "print(count)"
   ],
   "metadata": {
    "collapsed": false,
    "ExecuteTime": {
     "end_time": "2024-03-02T18:48:51.986577Z",
     "start_time": "2024-03-02T18:48:51.961598Z"
    }
   },
   "id": "79f4da3885e488a2",
   "execution_count": 59
  },
  {
   "cell_type": "code",
   "outputs": [],
   "source": [
    "with open(output_json_pose_mirrored_file, 'w', encoding='utf-8') as f:\n",
    "    json.dump(records, f, ensure_ascii=False, indent=4)"
   ],
   "metadata": {
    "collapsed": false,
    "ExecuteTime": {
     "end_time": "2024-03-02T18:48:52.474358Z",
     "start_time": "2024-03-02T18:48:51.989598Z"
    }
   },
   "id": "616bc61351c62b6",
   "execution_count": 60
  },
  {
   "cell_type": "code",
   "outputs": [],
   "source": [],
   "metadata": {
    "collapsed": false
   },
   "id": "c848522bdaafba0f"
  }
 ],
 "metadata": {
  "kernelspec": {
   "display_name": "Python 3",
   "language": "python",
   "name": "python3"
  },
  "language_info": {
   "codemirror_mode": {
    "name": "ipython",
    "version": 2
   },
   "file_extension": ".py",
   "mimetype": "text/x-python",
   "name": "python",
   "nbconvert_exporter": "python",
   "pygments_lexer": "ipython2",
   "version": "2.7.6"
  }
 },
 "nbformat": 4,
 "nbformat_minor": 5
}
