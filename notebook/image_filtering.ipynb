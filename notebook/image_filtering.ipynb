{
 "cells": [
  {
   "cell_type": "code",
   "execution_count": 4,
   "id": "initial_id",
   "metadata": {
    "collapsed": true,
    "ExecuteTime": {
     "end_time": "2024-03-02T22:53:04.978974Z",
     "start_time": "2024-03-02T22:53:04.966051Z"
    }
   },
   "outputs": [],
   "source": [
    "import numpy as np\n",
    "from pathlib import Path\n",
    "from PIL import Image\n",
    "import json"
   ]
  },
  {
   "cell_type": "code",
   "outputs": [
    {
     "name": "stdout",
     "output_type": "stream",
     "text": [
      "wiki_crop\\00\n",
      "wiki_crop\\01\n",
      "wiki_crop\\02\n",
      "wiki_crop\\03\n",
      "wiki_crop\\04\n",
      "wiki_crop\\05\n",
      "wiki_crop\\06\n",
      "wiki_crop\\07\n",
      "wiki_crop\\08\n",
      "wiki_crop\\09\n",
      "wiki_crop\\10\n",
      "wiki_crop\\11\n",
      "wiki_crop\\12\n",
      "wiki_crop\\13\n",
      "wiki_crop\\14\n",
      "wiki_crop\\15\n",
      "wiki_crop\\16\n",
      "wiki_crop\\17\n",
      "wiki_crop\\18\n",
      "wiki_crop\\19\n",
      "wiki_crop\\20\n",
      "wiki_crop\\21\n",
      "wiki_crop\\22\n",
      "wiki_crop\\23\n",
      "wiki_crop\\24\n",
      "wiki_crop\\25\n",
      "wiki_crop\\26\n",
      "wiki_crop\\27\n",
      "wiki_crop\\28\n",
      "wiki_crop\\29\n",
      "wiki_crop\\30\n",
      "wiki_crop\\31\n",
      "wiki_crop\\32\n",
      "wiki_crop\\33\n",
      "wiki_crop\\34\n",
      "wiki_crop\\35\n",
      "wiki_crop\\36\n",
      "wiki_crop\\37\n",
      "wiki_crop\\38\n",
      "wiki_crop\\39\n",
      "wiki_crop\\40\n",
      "wiki_crop\\41\n",
      "wiki_crop\\42\n",
      "wiki_crop\\43\n",
      "wiki_crop\\44\n",
      "wiki_crop\\45\n",
      "wiki_crop\\46\n",
      "wiki_crop\\47\n",
      "wiki_crop\\48\n",
      "wiki_crop\\49\n",
      "wiki_crop\\50\n",
      "wiki_crop\\51\n",
      "wiki_crop\\52\n",
      "wiki_crop\\53\n",
      "wiki_crop\\54\n",
      "wiki_crop\\55\n",
      "wiki_crop\\56\n",
      "wiki_crop\\57\n",
      "wiki_crop\\58\n",
      "wiki_crop\\59\n",
      "wiki_crop\\60\n",
      "wiki_crop\\61\n",
      "wiki_crop\\62\n",
      "wiki_crop\\63\n",
      "wiki_crop\\64\n",
      "wiki_crop\\65\n",
      "wiki_crop\\66\n",
      "wiki_crop\\67\n",
      "wiki_crop\\68\n",
      "wiki_crop\\69\n",
      "wiki_crop\\70\n",
      "wiki_crop\\71\n",
      "wiki_crop\\72\n",
      "wiki_crop\\73\n",
      "wiki_crop\\74\n",
      "wiki_crop\\75\n",
      "wiki_crop\\76\n",
      "wiki_crop\\77\n",
      "wiki_crop\\78\n",
      "wiki_crop\\79\n",
      "wiki_crop\\80\n",
      "wiki_crop\\81\n",
      "wiki_crop\\82\n",
      "wiki_crop\\83\n",
      "wiki_crop\\84\n",
      "wiki_crop\\85\n",
      "wiki_crop\\86\n",
      "wiki_crop\\87\n",
      "wiki_crop\\88\n",
      "wiki_crop\\89\n",
      "wiki_crop\\90\n",
      "wiki_crop\\91\n",
      "wiki_crop\\92\n",
      "wiki_crop\\93\n",
      "wiki_crop\\94\n",
      "wiki_crop\\95\n",
      "wiki_crop\\96\n",
      "wiki_crop\\97\n",
      "wiki_crop\\98\n",
      "wiki_crop\\99\n"
     ]
    }
   ],
   "source": [
    "parent_folder = Path(\"wiki_crop\")\n",
    "images = []\n",
    "stretched = 0\n",
    "small = 0\n",
    "for folder in parent_folder.iterdir():\n",
    "    print(folder)\n",
    "    if folder.is_dir():\n",
    "        for file in folder.iterdir():\n",
    "            img = Image.open(file)\n",
    "            width, height = img.size\n",
    "            if width <= 100 or height <= 100:\n",
    "                small += 1\n",
    "                continue\n",
    "            img_rotated = img.rotate(90, expand=True)\n",
    "            img_arr = np.array(img)\n",
    "            rot_img_arr = np.array(img_rotated)\n",
    "            penalty = 0\n",
    "            if (img_arr[:5] == img_arr[5:10]).all() == True:\n",
    "                penalty += 1\n",
    "            if (img_arr[-5:] == img_arr[-10:-5]).all() == True:\n",
    "                penalty += 1\n",
    "            if (rot_img_arr[:5] == rot_img_arr[5:10]).all() == True:\n",
    "                penalty += 1\n",
    "            if (rot_img_arr[-5:] == rot_img_arr[-10:-5]).all() == True:\n",
    "                penalty += 1\n",
    "            if penalty >= 3:\n",
    "                stretched += 1\n",
    "                continue\n",
    "            images.append(file.name)\n"
   ],
   "metadata": {
    "collapsed": false,
    "ExecuteTime": {
     "end_time": "2024-03-02T23:00:46.472681Z",
     "start_time": "2024-03-02T22:59:03.577804Z"
    }
   },
   "id": "ed79b8cf0ee2492f",
   "execution_count": 7
  },
  {
   "cell_type": "code",
   "outputs": [
    {
     "name": "stdout",
     "output_type": "stream",
     "text": [
      "Загальна кількість зображень: 48953\n",
      "Занадто малі: 11893, розтягнуті: 1482\n",
      "62328\n"
     ]
    }
   ],
   "source": [
    "print(f'Загальна кількість зображень: {len(images)}')\n",
    "print(f'Занадто малі: {small}, розтягнуті: {stretched}')\n",
    "print(len(images) + small + stretched)"
   ],
   "metadata": {
    "collapsed": false,
    "ExecuteTime": {
     "end_time": "2024-03-02T23:02:10.256788Z",
     "start_time": "2024-03-02T23:02:10.247305Z"
    }
   },
   "id": "ad198cc89b806f7a",
   "execution_count": 8
  },
  {
   "cell_type": "code",
   "outputs": [],
   "source": [
    "with open(\"data.json\", \"w\") as file_with_data:\n",
    "    json.dump(images, file_with_data)"
   ],
   "metadata": {
    "collapsed": false,
    "ExecuteTime": {
     "end_time": "2024-03-02T23:06:25.037902Z",
     "start_time": "2024-03-02T23:06:24.982836Z"
    }
   },
   "id": "291b9e898be59a6f",
   "execution_count": 11
  }
 ],
 "metadata": {
  "kernelspec": {
   "display_name": "Python 3",
   "language": "python",
   "name": "python3"
  },
  "language_info": {
   "codemirror_mode": {
    "name": "ipython",
    "version": 2
   },
   "file_extension": ".py",
   "mimetype": "text/x-python",
   "name": "python",
   "nbconvert_exporter": "python",
   "pygments_lexer": "ipython2",
   "version": "2.7.6"
  }
 },
 "nbformat": 4,
 "nbformat_minor": 5
}
