{
 "cells": [
  {
   "cell_type": "code",
   "execution_count": 1,
   "id": "initial_id",
   "metadata": {
    "collapsed": true,
    "ExecuteTime": {
     "end_time": "2024-03-03T03:20:00.809146Z",
     "start_time": "2024-03-03T03:19:58.187169Z"
    }
   },
   "outputs": [],
   "source": [
    "from facenet_pytorch import MTCNN, InceptionResnetV1\n",
    "resnet = InceptionResnetV1(pretrained='vggface2').eval()"
   ]
  },
  {
   "cell_type": "code",
   "outputs": [],
   "source": [
    "import processing.load_dataset as load_dataset"
   ],
   "metadata": {
    "collapsed": false,
    "ExecuteTime": {
     "end_time": "2024-03-03T03:20:15.792787Z",
     "start_time": "2024-03-03T03:20:15.512513Z"
    }
   },
   "id": "e3105d82360a6bc7",
   "execution_count": 2
  },
  {
   "cell_type": "code",
   "outputs": [
    {
     "data": {
      "text/plain": "'../data/wiki_crop_filtered_mirrored_pose/'"
     },
     "execution_count": 5,
     "metadata": {},
     "output_type": "execute_result"
    }
   ],
   "source": [
    "load_dataset.img_dir"
   ],
   "metadata": {
    "collapsed": false,
    "ExecuteTime": {
     "end_time": "2024-03-03T01:52:11.179095Z",
     "start_time": "2024-03-03T01:52:11.164645Z"
    }
   },
   "id": "3eedaf7a8f62313b",
   "execution_count": 5
  },
  {
   "cell_type": "code",
   "outputs": [],
   "source": [
    "data, dataset, data_loader = load_dataset.generate_dataset('../data/wiki_crop_cut_pose/') "
   ],
   "metadata": {
    "collapsed": false,
    "ExecuteTime": {
     "end_time": "2024-03-03T03:20:22.082575Z",
     "start_time": "2024-03-03T03:20:21.897452Z"
    }
   },
   "id": "7eb3b2cce921f902",
   "execution_count": 3
  },
  {
   "cell_type": "code",
   "outputs": [],
   "source": [
    "\n",
    "from tqdm import tqdm"
   ],
   "metadata": {
    "collapsed": false,
    "ExecuteTime": {
     "end_time": "2024-03-03T03:20:30.585795Z",
     "start_time": "2024-03-03T03:20:30.569198Z"
    }
   },
   "id": "a999f14afa46a562",
   "execution_count": 4
  },
  {
   "cell_type": "code",
   "outputs": [
    {
     "name": "stdout",
     "output_type": "stream",
     "text": [
      "WARNING:tensorflow:From C:\\Users\\Admin\\PycharmProjects\\INT20h\\.venv\\lib\\site-packages\\keras\\src\\losses.py:2976: The name tf.losses.sparse_softmax_cross_entropy is deprecated. Please use tf.compat.v1.losses.sparse_softmax_cross_entropy instead.\n"
     ]
    }
   ],
   "source": [
    "from transformers import AutoImageProcessor, AutoModelForImageClassification\n",
    "\n",
    "model_name = \"dima806/facial_emotions_image_detection\"\n",
    "model = AutoImageProcessor.from_pretrained(model_name)"
   ],
   "metadata": {
    "collapsed": false,
    "ExecuteTime": {
     "end_time": "2024-03-03T03:20:43.543928Z",
     "start_time": "2024-03-03T03:20:37.842188Z"
    }
   },
   "id": "f0b8f44872f0646b",
   "execution_count": 6
  },
  {
   "cell_type": "code",
   "outputs": [],
   "source": [
    "model_name = \"rizvandwiki/gender-classification\"\n",
    "model_gender = AutoModelForImageClassification.from_pretrained(model_name)"
   ],
   "metadata": {
    "collapsed": false,
    "ExecuteTime": {
     "end_time": "2024-03-03T03:20:43.954733Z",
     "start_time": "2024-03-03T03:20:43.545044Z"
    }
   },
   "id": "3d7a300de554d73d",
   "execution_count": 7
  },
  {
   "cell_type": "code",
   "outputs": [
    {
     "name": "stderr",
     "output_type": "stream",
     "text": [
      "100%|██████████| 481/481 [02:01<00:00,  3.96batch/s]\n"
     ]
    }
   ],
   "source": [
    "embeddings = []\n",
    "labels = []\n",
    "with tqdm(data_loader, unit=\"batch\") as tepoch:\n",
    "    for data in tepoch:\n",
    "        inputs, names = data\n",
    "        inputs = inputs.permute(0, 3, 1, 2)\n",
    "        img_embedding = model(inputs*255.0)\n",
    "        embeddings += img_embedding\n",
    "        labels += names"
   ],
   "metadata": {
    "collapsed": false,
    "ExecuteTime": {
     "end_time": "2024-03-03T02:11:33.861823Z",
     "start_time": "2024-03-03T02:09:32.376520Z"
    }
   },
   "id": "9e9b718c09b9808c",
   "execution_count": 26
  },
  {
   "cell_type": "code",
   "outputs": [],
   "source": [
    "embedded_photos = [embeddings, labels]\n",
    "\n",
    "import pickle\n",
    "\n",
    "\n",
    "with open('../data/embeddings_emotion.pickle', 'wb') as handle:\n",
    "    pickle.dump(embedded_photos, handle, protocol=pickle.HIGHEST_PROTOCOL)"
   ],
   "metadata": {
    "collapsed": false,
    "ExecuteTime": {
     "end_time": "2024-03-03T02:11:33.939622Z",
     "start_time": "2024-03-03T02:11:33.862906Z"
    }
   },
   "id": "5f9a45af16c939d2",
   "execution_count": 27
  },
  {
   "cell_type": "code",
   "outputs": [
    {
     "name": "stderr",
     "output_type": "stream",
     "text": [
      "100%|██████████| 481/481 [04:15<00:00,  1.88batch/s]\n"
     ]
    }
   ],
   "source": [
    "embeddings = []\n",
    "labels = []\n",
    "with tqdm(data_loader, unit=\"batch\") as tepoch:\n",
    "    for data in tepoch:\n",
    "        inputs, names = data\n",
    "        inputs = inputs.permute(0, 3, 1, 2)\n",
    "        img_embedding = resnet(inputs)\n",
    "        embeddings += img_embedding.tolist()\n",
    "        labels += names"
   ],
   "metadata": {
    "collapsed": false,
    "ExecuteTime": {
     "end_time": "2024-03-03T02:09:32.158983Z",
     "start_time": "2024-03-03T02:05:16.702569Z"
    }
   },
   "id": "edfba64e20eee295",
   "execution_count": 22
  },
  {
   "cell_type": "code",
   "outputs": [],
   "source": [
    "embedded_photos = [embeddings, labels]\n",
    "\n",
    "import pickle\n",
    "\n",
    "\n",
    "with open('../data/embeddings.pickle', 'wb') as handle:\n",
    "    pickle.dump(embedded_photos, handle, protocol=pickle.HIGHEST_PROTOCOL)"
   ],
   "metadata": {
    "collapsed": false,
    "ExecuteTime": {
     "end_time": "2024-03-03T02:09:32.188861Z",
     "start_time": "2024-03-03T02:09:32.176260Z"
    }
   },
   "id": "7d52532cf7a04b9b",
   "execution_count": 24
  },
  {
   "cell_type": "code",
   "outputs": [],
   "source": [
    "with open('../data/embeddings.pickle', 'rb') as handle:\n",
    "    embedded_photos = pickle.load(handle)"
   ],
   "metadata": {
    "collapsed": false,
    "ExecuteTime": {
     "end_time": "2024-03-02T23:49:48.387514Z",
     "start_time": "2024-03-02T23:49:48.048145Z"
    }
   },
   "id": "8f8ed4c35e2e9b6",
   "execution_count": 14
  }
 ],
 "metadata": {
  "kernelspec": {
   "display_name": "Python 3",
   "language": "python",
   "name": "python3"
  },
  "language_info": {
   "codemirror_mode": {
    "name": "ipython",
    "version": 2
   },
   "file_extension": ".py",
   "mimetype": "text/x-python",
   "name": "python",
   "nbconvert_exporter": "python",
   "pygments_lexer": "ipython2",
   "version": "2.7.6"
  }
 },
 "nbformat": 4,
 "nbformat_minor": 5
}
