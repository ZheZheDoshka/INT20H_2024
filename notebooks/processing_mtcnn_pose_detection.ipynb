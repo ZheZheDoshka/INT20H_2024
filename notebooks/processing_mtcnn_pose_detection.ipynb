{
 "cells": [
  {
   "cell_type": "code",
   "outputs": [],
   "source": [
    "from pathlib import Path\n",
    "import json"
   ],
   "metadata": {
    "collapsed": false
   },
   "id": "19956ec54bf8e8e9",
   "execution_count": null
  },
  {
   "cell_type": "code",
   "outputs": [],
   "source": [
    "from facenet_pytorch import MTCNN\n",
    "from PIL import Image\n",
    "import numpy as np\n",
    "from tqdm import tqdm"
   ],
   "metadata": {
    "collapsed": true
   },
   "id": "initial_id",
   "execution_count": null
  },
  {
   "cell_type": "code",
   "outputs": [],
   "source": [
    "frontal_angle_r_range = range(35, 57)  # Right eye angle range for frontal face\n",
    "frontal_angle_l_range = range(35, 58)  # Left eye angle range for frontal face"
   ],
   "metadata": {
    "collapsed": false
   },
   "id": "59f83ae1370eb6d2",
   "execution_count": null
  },
  {
   "cell_type": "code",
   "outputs": [],
   "source": [
    "mtcnn = MTCNN(\n",
    "    image_size=160,\n",
    "    margin=0,\n",
    "    min_face_size=20,\n",
    "    thresholds=[0.6, 0.7, 0.7], # MTCNN thresholds\n",
    "    factor=0.709,\n",
    "    post_process=True,\n",
    "    device='cpu'\n",
    ")"
   ],
   "metadata": {
    "collapsed": false
   },
   "id": "649c913d0cddfae0",
   "execution_count": null
  },
  {
   "cell_type": "code",
   "outputs": [],
   "source": [
    "def angle(a, b, c):\n",
    "    ba = np.array(a) - np.array(b)\n",
    "    bc = np.array(c) - np.array(b) \n",
    "    \n",
    "    cosine_angle = np.dot(ba, bc)/(np.linalg.norm(ba)*np.linalg.norm(bc))\n",
    "    angle = np.arccos(cosine_angle)\n",
    "    \n",
    "    return np.degrees(angle)"
   ],
   "metadata": {
    "collapsed": false
   },
   "id": "a52097b84b1be7e6",
   "execution_count": null
  },
  {
   "cell_type": "code",
   "outputs": [],
   "source": [
    "def pred_face_pose(file_path):\n",
    "    image = Image.open(file_path) # Reading the image\n",
    "    \n",
    "    if image.mode != 'RGB':\n",
    "        image = image.convert('RGB')\n",
    "    \n",
    "    # Detection part producing bounding box, probability of the detected face, and the facial landmarks\n",
    "    try:\n",
    "        bbox_, prob_, landmarks_ = mtcnn.detect(image, landmarks=True)\n",
    "    except RuntimeError as e:\n",
    "        return [{'error': 'error_runtime', 'error_detail': str(e)}]\n",
    "    \n",
    "    if bbox_ is None: \n",
    "        return [{'error': 'error_no_face_detected', 'error_detail': 'Bounding box is None, no face detected'}]\n",
    "    \n",
    "    faces = []\n",
    "    for bbox, landmarks, prob in zip(bbox_, landmarks_, prob_):\n",
    "        # Check if we detect a face in the image\n",
    "        if bbox is None: \n",
    "            faces.append({'error': 'error_no_face_detected', 'error_detail': 'Bounding box is None, no face detected'})\n",
    "            continue\n",
    "            \n",
    "        angle_r = angle(landmarks[0], landmarks[1], landmarks[2])  # Calculate the right eye angle\n",
    "        angle_l = angle(landmarks[1], landmarks[0], landmarks[2])  # Calculate the left eye angle\n",
    "    \n",
    "        if (int(angle_r) in frontal_angle_r_range) and (int(angle_l) in frontal_angle_l_range):\n",
    "            pred_label = 'frontal'\n",
    "        else: \n",
    "            if angle_r < angle_l:\n",
    "                pred_label = 'left'\n",
    "            else:\n",
    "                pred_label = 'right'\n",
    "                \n",
    "        face = {\n",
    "            'error': None,\n",
    "            'bbox': bbox.tolist(),\n",
    "            'landmarks': {\n",
    "                'left_eye': landmarks[0].tolist(),\n",
    "                'right_eye': landmarks[1].tolist(),\n",
    "                'nose': landmarks[2].tolist(),\n",
    "                'left_mouth': landmarks[3].tolist(),\n",
    "                'right_mouth': landmarks[4].tolist()\n",
    "            \n",
    "            },\n",
    "            'angle_r': angle_r,\n",
    "            'angle_l': angle_l,\n",
    "            'pred_prob': prob,\n",
    "            'pred_label': pred_label\n",
    "        }\n",
    "                \n",
    "        faces.append(face)\n",
    "            \n",
    "    return faces"
   ],
   "metadata": {
    "collapsed": false
   },
   "id": "d149c74b5b1e47a2",
   "execution_count": null
  },
  {
   "cell_type": "markdown",
   "source": [
    "# Process all images"
   ],
   "metadata": {
    "collapsed": false
   },
   "id": "e80e25f15decde54"
  },
  {
   "cell_type": "code",
   "outputs": [],
   "source": [
    "sample_parent = '../data/wiki_crop/'\n",
    "sample_output = '../data/wiki_crop_mtcnn_pose_detection/'"
   ],
   "metadata": {
    "collapsed": false
   },
   "id": "46d95108cea0b008",
   "execution_count": null
  },
  {
   "cell_type": "code",
   "outputs": [],
   "source": [
    "(Path(sample_output) / 'json').mkdir(parents=True, exist_ok=True)\n",
    "\n",
    "datasets = list(Path(sample_parent).iterdir())\n",
    "\n",
    "total_images = 0\n",
    "for dataset in datasets:\n",
    "    total_images += len(list(dataset.glob('**/*.jpg')))\n",
    "    \n",
    "progress_bar = tqdm(total=total_images)\n",
    "\n",
    "for dataset in datasets:\n",
    "    detection_result = {}\n",
    "    \n",
    "    images = list(dataset.glob('**/*.jpg'))\n",
    "    for image in images:\n",
    "        faces = pred_face_pose(image)\n",
    "        detection_result[image.name] = faces\n",
    "        \n",
    "        progress_bar.update(1)\n",
    "\n",
    "    with open(Path(sample_output) / 'json' / f'{dataset.name}.json', 'w', encoding='utf-8') as f:\n",
    "        json.dump(detection_result, f, ensure_ascii=False, indent=4)"
   ],
   "metadata": {
    "collapsed": false
   },
   "id": "209e67cd8e73bc3a",
   "execution_count": null
  },
  {
   "cell_type": "code",
   "outputs": [],
   "source": [],
   "metadata": {
    "collapsed": false
   },
   "id": "16838227129e294b"
  },
  {
   "cell_type": "code",
   "outputs": [],
   "source": [],
   "metadata": {
    "collapsed": false
   },
   "id": "c1d05d6ea9ad9836"
  }
 ],
 "metadata": {
  "kernelspec": {
   "display_name": "Python 3",
   "language": "python",
   "name": "python3"
  },
  "language_info": {
   "codemirror_mode": {
    "name": "ipython",
    "version": 2
   },
   "file_extension": ".py",
   "mimetype": "text/x-python",
   "name": "python",
   "nbconvert_exporter": "python",
   "pygments_lexer": "ipython2",
   "version": "2.7.6"
  }
 },
 "nbformat": 4,
 "nbformat_minor": 5
}
